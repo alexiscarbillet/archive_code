{
 "cells": [
  {
   "cell_type": "markdown",
   "metadata": {},
   "source": [
    "# ALEXIS CARBILLET"
   ]
  },
  {
   "cell_type": "code",
   "execution_count": 1,
   "metadata": {},
   "outputs": [],
   "source": [
    "## import librairies\n",
    "import pandas\n",
    "from sklearn.cluster import KMeans\n",
    "import matplotlib.pyplot as plt\n",
    "import csv\n",
    "from sklearn.model_selection import train_test_split\n",
    "from sklearn.naive_bayes import MultinomialNB\n",
    "from sklearn.linear_model import Perceptron, LogisticRegression\n",
    "from sklearn.tree import DecisionTreeClassifier\n",
    "from sklearn.neighbors import KNeighborsClassifier\n",
    "from sklearn.svm import SVC\n",
    "from sklearn.metrics import f1_score\n",
    "from sklearn.ensemble import RandomForestClassifier\n",
    "from sklearn.neural_network import MLPClassifier\n",
    "from sklearn.model_selection import cross_val_score\n",
    "import numpy as np\n",
    "import warnings"
   ]
  },
  {
   "cell_type": "code",
   "execution_count": 2,
   "metadata": {},
   "outputs": [],
   "source": [
    "warnings.filterwarnings('ignore')"
   ]
  },
  {
   "cell_type": "code",
   "execution_count": 3,
   "metadata": {},
   "outputs": [],
   "source": [
    "## import data\n",
    "df = pandas.read_csv('project_pump.csv', sep=';')\n",
    "(n,p)=df.shape"
   ]
  },
  {
   "cell_type": "code",
   "execution_count": 4,
   "metadata": {},
   "outputs": [
    {
     "name": "stdout",
     "output_type": "stream",
     "text": [
      "(881, 5)\n",
      "(882, 5)\n"
     ]
    }
   ],
   "source": [
    "##  Preprocessing dataset\n",
    "print((n,p))\n",
    "c=df.columns.values\n",
    "\n",
    "c=pandas.DataFrame.transpose(pandas.DataFrame(c))\n",
    "c.columns=df.columns.values\n",
    "# simply concatenate both dataframes \n",
    "c=c.append(df)\n",
    "\n",
    "print(c.shape)\n",
    "\n",
    "df.columns = ['Unix', 'Samples','Time','Sampling', 'Data']\n",
    "\n",
    "m=0\n",
    "\n",
    "for i in range(n):\n",
    "    s=df['Data'][i]\n",
    "    s=s.rstrip(']')\n",
    "    s=s.lstrip('[')\n",
    "    s=s.split(',')\n",
    "    p2=len(s)\n",
    "    for j in range(p2):\n",
    "        m+=float(s[j]) # replace list by its mean\n",
    "    df['Data'][i]=str(m/p2)\n"
   ]
  },
  {
   "cell_type": "code",
   "execution_count": 5,
   "metadata": {},
   "outputs": [
    {
     "data": {
      "text/plain": [
       "Text(0.5, 1.0, 'Elbow Method For Optimal k')"
      ]
     },
     "execution_count": 5,
     "metadata": {},
     "output_type": "execute_result"
    },
    {
     "data": {
      "image/png": "[encoded data removed]",
      "text/plain": [
       "<Figure size 432x288 with 1 Axes>"
      ]
     },
     "metadata": {
      "needs_background": "light"
     },
     "output_type": "display_data"
    }
   ],
   "source": [
    "## How many cluster?\n",
    "Sum_of_squared_distances = []\n",
    "K = range(1,15)\n",
    "for k in K:\n",
    "    km = KMeans(n_clusters=k)\n",
    "    km = km.fit(df)\n",
    "    Sum_of_squared_distances.append(km.inertia_)\n",
    "\n",
    "plt.figure()\n",
    "plt.plot(K, Sum_of_squared_distances, 'bx-')\n",
    "plt.xlabel('k')\n",
    "plt.ylabel('Sum_of_squared_distances')\n",
    "plt.title('Elbow Method For Optimal k')"
   ]
  },
  {
   "cell_type": "code",
   "execution_count": 6,
   "metadata": {},
   "outputs": [],
   "source": [
    "## In the plot above the elbow is at k=3 indicating the optimal k for this \n",
    "# dataset is 3\n",
    "kmeans = KMeans(n_clusters=3, random_state=0).fit(df)"
   ]
  },
  {
   "cell_type": "code",
   "execution_count": 7,
   "metadata": {},
   "outputs": [],
   "source": [
    "## machine learning\n",
    "labels=kmeans.labels_\n",
    "\n",
    "def fit(nb,train,test,y,yt,height_f1,type):\n",
    "    nb.fit(train, y)\n",
    "    z=f1_score(yt, nb.predict(test),average='weighted')\n",
    "    print('the f1 score obtained with ',type,' is:',z)\n",
    "    height_f1.append(z)\n",
    "\n",
    "def ml(train,test,y,yt):\n",
    "    height_f1=[]\n",
    "    bars=['bayes','perceptron','MLP','tree','logistic regression','kNN 3 neighbors',\n",
    "          'kNN 7 neighbors','kNN 15 neighbors','SVC','Random Forest']\n",
    "    # bayes\n",
    "    nb = MultinomialNB()\n",
    "    fit(nb,train,test,y,yt,height_f1,'bayes')\n",
    "    # perceptron\n",
    "    nb = Perceptron(tol=1e-3, random_state=0)\n",
    "    fit(nb,train,test,y,yt,height_f1,'perceptron')\n",
    "    # multi-layer perceptron\n",
    "    nb = MLPClassifier(solver='lbfgs', alpha=1e-5, \n",
    "                       hidden_layer_sizes=(5, 2), random_state=1)\n",
    "    fit(nb,train,test,y,yt,height_f1,'multi-layer perceptron')\n",
    "    # tree classifier\n",
    "    nb = DecisionTreeClassifier(random_state=0)\n",
    "    fit(nb,train,test,y,yt,height_f1,'tree')\n",
    "    # logistic regression\n",
    "    nb = LogisticRegression(random_state=0, solver='lbfgs',\n",
    "                            multi_class='multinomial')\n",
    "    fit(nb,train,test,y,yt,height_f1,'logistic regression')\n",
    "    # kNN 3\n",
    "    nb = KNeighborsClassifier(n_neighbors=3)\n",
    "    fit(nb,train,test,y,yt,height_f1,'kNN 3 neighbors')\n",
    "    # kNN 7\n",
    "    nb = KNeighborsClassifier(n_neighbors=7)\n",
    "    fit(nb,train,test,y,yt,height_f1,'kNN 7 neighbors')\n",
    "    # kNN 15\n",
    "    nb = KNeighborsClassifier(n_neighbors=15)\n",
    "    fit(nb,train,test,y,yt,height_f1,'kNN 15 neighbors')\n",
    "    # SVC\n",
    "    nb = SVC(gamma='auto')\n",
    "    fit(nb,train,test,y,yt,height_f1,'SVC')\n",
    "    # random forest\n",
    "    nb = RandomForestClassifier(n_estimators=100, max_depth=2, random_state=0)\n",
    "    fit(nb,train,test,y,yt,height_f1,'random forest')\n",
    "    y_pos = np.arange(len(bars))\n",
    "    plt.figure()\n",
    "\n",
    "    title='F1 score'\n",
    "    plt.title(title)\n",
    "    plt.bar(y_pos, height_f1)  # Create bars\n",
    "    plt.xticks(y_pos, bars, rotation=90) # Create names on the x-axis\n",
    "    plt.subplots_adjust(bottom=0.3, top=0.95) # Custom the subplot layout\n",
    "    plt.show()    # Show graphic\n",
    "    print('the best one  is ',bars[height_f1.index(max(height_f1))],\n",
    "          ' with a F1 score of ',height_f1[height_f1.index(max(height_f1))])"
   ]
  },
  {
   "cell_type": "code",
   "execution_count": 8,
   "metadata": {},
   "outputs": [
    {
     "name": "stdout",
     "output_type": "stream",
     "text": [
      "the f1 score obtained with  bayes  is: 0.949066391754719\n",
      "the f1 score obtained with  perceptron  is: 0.1817365198685672\n",
      "the f1 score obtained with  multi-layer perceptron  is: 0.15208166630295097\n",
      "the f1 score obtained with  tree  is: 1.0\n",
      "the f1 score obtained with  logistic regression  is: 1.0\n",
      "the f1 score obtained with  kNN 3 neighbors  is: 0.9943474321779405\n",
      "the f1 score obtained with  kNN 7 neighbors  is: 0.9943474321779405\n",
      "the f1 score obtained with  kNN 15 neighbors  is: 1.0\n",
      "the f1 score obtained with  SVC  is: 0.15208166630295097\n",
      "the f1 score obtained with  random forest  is: 1.0\n"
     ]
    },
    {
     "data": {
      "image/png": "[encoded data removed]",
      "text/plain": [
       "<Figure size 432x288 with 1 Axes>"
      ]
     },
     "metadata": {
      "needs_background": "light"
     },
     "output_type": "display_data"
    },
    {
     "name": "stdout",
     "output_type": "stream",
     "text": [
      "the best one  is  tree  with a F1 score of  1.0\n"
     ]
    }
   ],
   "source": [
    "X_train, X_test, y_train, y_test = train_test_split( df, labels, \n",
    "                                                    test_size=0.20, random_state=42)\n",
    "ml(X_train,X_test,y_train,y_test)"
   ]
  },
  {
   "cell_type": "code",
   "execution_count": 9,
   "metadata": {},
   "outputs": [],
   "source": [
    "## write in a new csv the results\n",
    "df['Cluster'] = pandas.Series(labels, index=df.index)\n",
    "df.to_csv('project_pump_modified.csv')"
   ]
  },
  {
   "cell_type": "code",
   "execution_count": 10,
   "metadata": {},
   "outputs": [
    {
     "name": "stdout",
     "output_type": "stream",
     "text": [
      "(899, 5)\n",
      "(900, 5)\n",
      "the f1 score obtained with  bayes  is: 0.9277228277764332\n",
      "the f1 score obtained with  perceptron  is: 0.18148148148148147\n",
      "the f1 score obtained with  multi-layer perceptron  is: 0.18148148148148147\n",
      "the f1 score obtained with  tree  is: 0.9944434266327394\n",
      "the f1 score obtained with  logistic regression  is: 0.9944434266327394\n",
      "the f1 score obtained with  kNN 3 neighbors  is: 0.9888834582382969\n",
      "the f1 score obtained with  kNN 7 neighbors  is: 0.9888834582382969\n",
      "the f1 score obtained with  kNN 15 neighbors  is: 0.9944434266327394\n",
      "the f1 score obtained with  SVC  is: 0.12950191570881225\n",
      "the f1 score obtained with  random forest  is: 0.9944434266327394\n"
     ]
    },
    {
     "data": {
      "image/png": "[encoded data removed]",
      "text/plain": [
       "<Figure size 432x288 with 1 Axes>"
      ]
     },
     "metadata": {
      "needs_background": "light"
     },
     "output_type": "display_data"
    },
    {
     "data": {
      "image/png": "[encoded data removed]",
      "text/plain": [
       "<Figure size 432x288 with 1 Axes>"
      ]
     },
     "metadata": {
      "needs_background": "light"
     },
     "output_type": "display_data"
    },
    {
     "name": "stdout",
     "output_type": "stream",
     "text": [
      "the best one  is  tree  with a F1 score of  0.9944434266327394\n"
     ]
    }
   ],
   "source": [
    "## bonus\n",
    "df2 = pandas.read_csv('project_fan.csv', sep=';',\n",
    "                      encoding='utf-8', engine='c')\n",
    "(n,p)=df2.shape\n",
    "print((n,p))\n",
    "c=df2.columns.values\n",
    "\n",
    "c=pandas.DataFrame.transpose(pandas.DataFrame(c))\n",
    "c.columns=df2.columns.values\n",
    "# simply concatenate both dataframes \n",
    "c=c.append(df2)\n",
    "\n",
    "print(c.shape)\n",
    "df2.columns = ['Unix', 'Samples','Time','Sampling', 'Data']\n",
    "m=0\n",
    "\n",
    "for i in range(n):\n",
    "    s=df2['Data'][i]\n",
    "    s=s.rstrip(']')\n",
    "    s=s.lstrip('[')\n",
    "    s=s.split(',')\n",
    "    p2=len(s)\n",
    "    for j in range(p2):\n",
    "        m+=float(s[j]) # replace list by its mean\n",
    "    df2['Data'][i]=str(m/p2)\n",
    "\n",
    "Sum_of_squared_distances = []\n",
    "K = range(1,15)\n",
    "for k in K:\n",
    "    km = KMeans(n_clusters=k)\n",
    "    km = km.fit(df2)\n",
    "    Sum_of_squared_distances.append(km.inertia_)\n",
    "\n",
    "plt.figure()\n",
    "plt.plot(K, Sum_of_squared_distances, 'bx-')\n",
    "plt.xlabel('k')\n",
    "plt.ylabel('Sum_of_squared_distances')\n",
    "plt.title('Elbow Method For Optimal k')\n",
    "# still 3 states\n",
    "kmeans = KMeans(n_clusters=3, random_state=0).fit(df2)\n",
    "labels=kmeans.labels_\n",
    "X_train, X_test, y_train, y_test = train_test_split( df2, labels,\n",
    "                                                    test_size=0.20, \n",
    "                                                    random_state=42)\n",
    "ml(X_train,X_test,y_train,y_test)\n",
    "df2['Cluster'] = pandas.Series(labels, index=df2.index)\n",
    "df2.to_csv('project_fan_modified.csv')"
   ]
  }
 ],
 "metadata": {
  "kernelspec": {
   "display_name": "Python 3",
   "language": "python",
   "name": "python3"
  },
  "language_info": {
   "codemirror_mode": {
    "name": "ipython",
    "version": 3
   },
   "file_extension": ".py",
   "mimetype": "text/x-python",
   "name": "python",
   "nbconvert_exporter": "python",
   "pygments_lexer": "ipython3",
   "version": "3.7.1"
  }
 },
 "nbformat": 4,
 "nbformat_minor": 2
}
