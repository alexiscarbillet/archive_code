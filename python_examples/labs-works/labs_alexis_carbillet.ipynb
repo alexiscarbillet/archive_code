{
 "cells": [
  {
   "cell_type": "markdown",
   "metadata": {},
   "source": [
    "# Labs Works 1+2 Alexis Carbillet"
   ]
  },
  {
   "cell_type": "code",
   "execution_count": 1,
   "metadata": {},
   "outputs": [],
   "source": [
    "#import des librairies\n",
    "import numpy as np\n",
    "import pandas\n",
    "from dateutil.parser import parse\n",
    "import datetime\n",
    "import pytz\n",
    "from nltk.tokenize import TweetTokenizer\n",
    "from nltk.corpus import wordnet, stopwords\n",
    "import re\n",
    "import string\n",
    "from nltk.stem import WordNetLemmatizer\n",
    "from collections import defaultdict\n",
    "from sklearn.decomposition import TruncatedSVD\n",
    "from sklearn.cluster import KMeans\n",
    "from sklearn.naive_bayes import MultinomialNB\n",
    "from sklearn.linear_model import Perceptron, LogisticRegression\n",
    "from sklearn.tree import DecisionTreeClassifier\n",
    "from sklearn.neighbors import KNeighborsClassifier\n",
    "from sklearn.svm import SVC\n",
    "from sklearn.metrics import f1_score\n",
    "from sklearn.ensemble import RandomForestClassifier\n",
    "from sklearn.neural_network import MLPClassifier\n",
    "import matplotlib.pyplot as plt\n",
    "import random\n",
    "from sklearn.decomposition import PCA\n",
    "import warnings"
   ]
  },
  {
   "cell_type": "code",
   "execution_count": 2,
   "metadata": {},
   "outputs": [],
   "source": [
    "warnings.filterwarnings('ignore')\n",
    "## import dataset\n",
    "# train\n",
    "train = pandas.read_csv('Train.csv')\n",
    "# test\n",
    "test=pandas.read_csv('Test.csv')"
   ]
  },
  {
   "cell_type": "markdown",
   "metadata": {},
   "source": [
    "The functions below are used for the processing of the tweets."
   ]
  },
  {
   "cell_type": "code",
   "execution_count": 3,
   "metadata": {},
   "outputs": [],
   "source": [
    "def to_datetime(datestring):\n",
    "    time_tuple = parsedate_tz(datestring.strip())\n",
    "    dt = datetime(*time_tuple[:6])\n",
    "    return dt - timedelta(seconds=time_tuple[-1])\n",
    "\n",
    "# text processing\n",
    "def isSymbol(inputString):\n",
    "    return bool(re.match(r'[^\\w]', inputString))\n",
    "def hasNumbers(inputString):\n",
    "    return bool(re.search(r'\\d', inputString))\n",
    "\n",
    "wordnet_lemmatizer = WordNetLemmatizer()\n",
    "\n",
    "stop = stopwords.words('english')\n",
    "stop2 = stopwords.words('spanish')\n",
    "stop3 = stopwords.words('portuguese')\n",
    "stop4 = stopwords.words('arabic')\n",
    "\n",
    "def check(word):\n",
    "\n",
    "    word= word.lower()\n",
    "    if word in stop:\n",
    "        return False\n",
    "    elif word in stop2:\n",
    "        return False\n",
    "    elif word in stop3:\n",
    "        return False\n",
    "    elif word in stop4:\n",
    "        return False\n",
    "    elif hasNumbers(word) or isSymbol(word):\n",
    "        return False\n",
    "    else:\n",
    "        return True\n",
    "\n",
    "\n",
    "def preprocessing(sen):\n",
    "    res = []\n",
    "    for word in sen:\n",
    "        if check(word):\n",
    "            res.append(wordnet_lemmatizer.lemmatize(word))\n",
    "    return res\n",
    "\n",
    "def in_dict(word):\n",
    "    if wordnet.synsets(word,lang='eng'):\n",
    "        return True\n",
    "    if wordnet.synsets(word,lang='spa'):\n",
    "        return True\n",
    "    if wordnet.synsets(word,lang='por'):\n",
    "        return True\n",
    "    if wordnet.synsets(word,lang='jpn'):\n",
    "        return True\n",
    "    if wordnet.synsets(word,lang='arb'):\n",
    "        return True\n",
    "\n",
    "def replace_elongated_word(word):\n",
    "    regex = r'(\\w*)(\\w+)\\2(\\w*)'\n",
    "    repl = r'\\1\\2\\3'    \n",
    "    if in_dict(word):\n",
    "        return word\n",
    "    new_word = re.sub(regex, repl, word)\n",
    "    if new_word != word:\n",
    "        return replace_elongated_word(new_word)\n",
    "    else:\n",
    "        return new_word\n",
    "\n",
    "def detect_elongated_words(row):\n",
    "    regexrep = r'(\\w*)(\\w+)(\\2)(\\w*)'\n",
    "    words = [''.join(i) for i in re.findall(regexrep, row)]\n",
    "    for word in words:\n",
    "        if not in_dict(word):\n",
    "            row = re.sub(word, replace_elongated_word(word), row)\n",
    "    return row\n",
    "\n",
    "def strip_links(text):\n",
    "    link_regex    = re.compile('((https?):((//)|(\\\\\\\\))+([\\w\\d:#@%/;$()~_?\\+-=\\\\\\.&](#!)?)*)', re.DOTALL)\n",
    "    links         = re.findall(link_regex, text)\n",
    "    for link in links:\n",
    "        text = text.replace(link[0], ', ')    \n",
    "    return text\n",
    "\n",
    "def strip_all_entities(text):\n",
    "    entity_prefixes = ['@','#']\n",
    "    for separator in  string.punctuation:\n",
    "        if separator not in entity_prefixes :\n",
    "            text = text.replace(separator,' ')\n",
    "    words = []\n",
    "    for word in text.split():\n",
    "        word = word.strip()\n",
    "        if word:\n",
    "            if word[0] not in entity_prefixes:\n",
    "                words.append(word)\n",
    "    return ' '.join(words)\n",
    "\n",
    "\n",
    "def getStringBigrams(string):\n",
    "    if len(string) <= 0: return []\n",
    "    if len(string) == 1: return string[0] # Handle strings with only one character = extract unigram\n",
    "    return [string[i]+string[i+1] for i in range(len(string)-1)]\n",
    "\n",
    "def getDataBigrams(strings):\n",
    "    return [getStringBigrams(x) for x in strings]\n",
    "\n",
    "def generateDictionary(data):\n",
    "    '''\n",
    "    This function identifies unique n-grams in your data.\n",
    "    '''\n",
    "    vocab = set()\n",
    "    for line in data:\n",
    "        for item in line:\n",
    "            vocab.add(item)\n",
    "    dictionary = {}\n",
    "    i=0\n",
    "    for item in vocab:\n",
    "        dictionary[item] = i\n",
    "        i+=1\n",
    "    return dictionary\n",
    "\n",
    "def doc2Bow(bigramData, dictionary):\n",
    "    ''' \n",
    "    Take single document in bigram format and return a vector\n",
    "    '''\n",
    "    vect = [0]*len(dictionary) # Initialize vector to zero\n",
    "    for gram in bigramData:\n",
    "        vect[dictionary[gram]]+=1\n",
    "    return np.asarray(vect)  # Convert to numpy vector"
   ]
  },
  {
   "cell_type": "markdown",
   "metadata": {},
   "source": [
    "Now the others columns will be processed with those functions:"
   ]
  },
  {
   "cell_type": "code",
   "execution_count": 4,
   "metadata": {},
   "outputs": [],
   "source": [
    "def topicProcessing(data):\n",
    "    for i in range(data.shape[0]):\n",
    "        dt = data[i]\n",
    "        if(dt=='twitter'):\n",
    "            data[i]=np.int64(1)\n",
    "        if(dt=='apple'):\n",
    "            data[i]=np.int64(2)\n",
    "        if(dt=='google'):\n",
    "            data[i]=np.int64(3)\n",
    "        if(dt=='microsoft'):\n",
    "            data[i]=np.int64(4)\n",
    "\n",
    "def sentimentProcessing(data):\n",
    "    for i in range(data.shape[0]):\n",
    "        dt = data[i]\n",
    "        if(dt=='positive'):\n",
    "            data[i]=1\n",
    "        if(dt=='neutral'):\n",
    "            data[i]=0\n",
    "        if(dt=='negative'):\n",
    "            data[i]=-1\n",
    "        if(dt=='irrelevant'):\n",
    "            data[i]=-10\n",
    "\n",
    "def dateProcessing(train):\n",
    "    for i in range(train.shape[0]):\n",
    "        dt = parse(train['TweetDate'][i])\n",
    "        train['TweetDate'][i]=(dt-datetime.datetime(1970,1,1,tzinfo=pytz.utc)).total_seconds() # convert to int\n",
    "    text_merge=\"\""
   ]
  },
  {
   "cell_type": "markdown",
   "metadata": {},
   "source": [
    "Now there is the machine learning :"
   ]
  },
  {
   "cell_type": "code",
   "execution_count": 5,
   "metadata": {},
   "outputs": [],
   "source": [
    "def fit(nb,train,test,y,yt,height,height_f1,type):\n",
    "    nb.fit(train, y)\n",
    "    w=nb.score(test, yt)\n",
    "    z=f1_score(yt, nb.predict(test),average='weighted')\n",
    "    height.append(w)\n",
    "    height_f1.append(z)\n",
    "\n",
    "def ml(train,test,y,yt,time,subject):\n",
    "    height=[]\n",
    "    height_f1=[]\n",
    "    bars=['bayes','perceptron','MLP','tree','logistic regression','kNN 3 neighbors','kNN 7 neighbors','kNN 15 neighbors','SVC','Random Forest']\n",
    "    # bayes\n",
    "    nb = MultinomialNB()\n",
    "    fit(nb,train,test,y,yt,height,height_f1,'bayes')\n",
    "    # perceptron\n",
    "    nb = Perceptron(tol=1e-3, random_state=0)\n",
    "    fit(nb,train,test,y,yt,height,height_f1,'perceptron')\n",
    "    # multi-layer perceptron\n",
    "    nb = MLPClassifier(solver='lbfgs', alpha=1e-5, hidden_layer_sizes=(5, 2), random_state=1)\n",
    "    fit(nb,train,test,y,yt,height,height_f1,'multi-layer perceptron')\n",
    "    # tree classifier\n",
    "    nb = DecisionTreeClassifier(random_state=0)\n",
    "    fit(nb,train,test,y,yt,height,height_f1,'tree')\n",
    "    # logistic regression\n",
    "    nb =LogisticRegression(random_state=0, solver='lbfgs',multi_class='multinomial')\n",
    "    fit(nb,train,test,y,yt,height,height_f1,'logistic regression')\n",
    "    # kNN 3\n",
    "    nb = KNeighborsClassifier(n_neighbors=3)\n",
    "    fit(nb,train,test,y,yt,height,height_f1,'kNN 3 neighbors')\n",
    "    # kNN 7\n",
    "    nb = KNeighborsClassifier(n_neighbors=7)\n",
    "    fit(nb,train,test,y,yt,height,height_f1,'kNN 7 neighbors')\n",
    "    # kNN 15\n",
    "    nb = KNeighborsClassifier(n_neighbors=15)\n",
    "    fit(nb,train,test,y,yt,height,height_f1,'kNN 15 neighbors')\n",
    "    # SVC\n",
    "    nb = SVC(gamma='auto')\n",
    "    fit(nb,train,test,y,yt,height,height_f1,'SVC')\n",
    "    # random forest\n",
    "    nb = RandomForestClassifier(n_estimators=100, max_depth=2, random_state=0)\n",
    "    fit(nb,train,test,y,yt,height,height_f1,'random forest')\n",
    "    y_pos = np.arange(len(bars))\n",
    "    plt.figure()\n",
    "    # title1='Mean accuracy for sentiment prediction:'\n",
    "    # plt.title(title1)\n",
    "    # plt.bar(y_pos, height)  # Create bars\n",
    "    # plt.xticks(y_pos, bars, rotation=90) # Create names on the x-axis\n",
    "    # plt.subplots_adjust(bottom=0.3, top=0.95) # Custom the subplot layout\n",
    "    # plt.figure()\n",
    "    title2='F1 score for '+subject+' prediction with time='+time\n",
    "    plt.title(title2)\n",
    "    plt.bar(y_pos, height_f1)  # Create bars\n",
    "    plt.xticks(y_pos, bars, rotation=90) # Create names on the x-axis\n",
    "    plt.subplots_adjust(bottom=0.3, top=0.95) # Custom the subplot layout\n",
    "    plt.show()    # Show graphic\n",
    "    print('the best one for sentiment prediction is ',bars[height_f1.index(max(height_f1))],' with a F1 score of ',height_f1[height_f1.index(max(height_f1))])"
   ]
  },
  {
   "cell_type": "markdown",
   "metadata": {},
   "source": [
    "The datasets are processed with this function:"
   ]
  },
  {
   "cell_type": "code",
   "execution_count": 6,
   "metadata": {},
   "outputs": [],
   "source": [
    "def processing(train,test,time):\n",
    "    # labels recuperation\n",
    "    labels=train['Sentiment']\n",
    "    train=train.drop(['Sentiment'],axis=1)\n",
    "        \n",
    "    labels_test=test['Sentiment']\n",
    "    test=test.drop(['Sentiment'],axis=1)\n",
    "\n",
    "    if(time=='true'):\n",
    "        # date processing\n",
    "        dateProcessing(train)\n",
    "        dateProcessing(test)\n",
    "\n",
    "    # topic processing\n",
    "    topicProcessing(train['Topic'])\n",
    "    topicProcessing(test['Topic'])\n",
    "    \n",
    "    # sentiment processing\n",
    "    sentimentProcessing(labels)\n",
    "    sentimentProcessing(labels_test)\n",
    "    \n",
    "    # text processing\n",
    "    l=[]\n",
    "    x=labels.shape[0]\n",
    "    for i in range(x):\n",
    "        l.append([])\n",
    "        a=train['TweetText'][i]\n",
    "        b=a.encode('ascii','ignore')\n",
    "        b=b.decode('utf8')\n",
    "        b=b.lower()\n",
    "        b=strip_all_entities(strip_links(b))\n",
    "        puk=TweetTokenizer()\n",
    "        cleaneded=puk.tokenize(b) # put clean when corrected\n",
    "        cc=preprocessing(cleaneded)\n",
    "        for item in cc:\n",
    "            if len(item)>2: # we don't want to have useless words\n",
    "                l[i].append(detect_elongated_words(item))\n",
    "        tempo=' '.join(l[i])\n",
    "        if len(tempo)>3:\n",
    "            train['TweetText'][i]=tempo\n",
    "            \n",
    "        else: # message useless are deleted\n",
    "            train['TweetText'][i]=''\n",
    "            # delete the nul label and its features\n",
    "            del labels[i]\n",
    "            train=train.drop(i,axis=0)\n",
    "            \n",
    "    l=[]\n",
    "    x=labels_test.shape[0]\n",
    "    for i in range(x):\n",
    "        l.append([])\n",
    "        a=test['TweetText'][i]\n",
    "        b=a.encode('ascii','ignore')\n",
    "        b=b.decode('utf8')\n",
    "        b=b.lower()\n",
    "        b=strip_all_entities(strip_links(b))\n",
    "        puk=TweetTokenizer()\n",
    "        cleaneded=puk.tokenize(b) # put clean when corrected\n",
    "        cc=preprocessing(cleaneded)\n",
    "        for item in cc:\n",
    "            if len(item)>2: # we don't want to have useless words\n",
    "                l[i].append(detect_elongated_words(item))\n",
    "        tempo=' '.join(l[i])\n",
    "        if len(tempo)>3:\n",
    "            test['TweetText'][i]=tempo\n",
    "            \n",
    "        else: # message useless are deleted\n",
    "            test['TweetText'][i]=''\n",
    "            # delete the nul label and its features\n",
    "            del labels_test[i]\n",
    "            test=test.drop(i,axis=0)\n",
    "\n",
    "    ## feature extraction\n",
    "    # train\n",
    "    nGramData = getDataBigrams(train['TweetText'])\n",
    "    dictionary = generateDictionary(nGramData)\n",
    "    data = [doc2Bow(nGramData[i], dictionary) for i in range(len(nGramData))]\n",
    "    svd = TruncatedSVD(n_components=100)\n",
    "    X_reduced = svd.fit_transform(data)\n",
    "    # test\n",
    "    nGramData = getDataBigrams(test['TweetText'])\n",
    "    dictionary = generateDictionary(nGramData)\n",
    "    data = [doc2Bow(nGramData[i], dictionary) for i in range(len(nGramData))]\n",
    "    svd = TruncatedSVD(n_components=100)\n",
    "    X_reduced2 = svd.fit_transform(data)\n",
    "    \n",
    "    ## classification sentiment\n",
    "    # naive bayes\n",
    "    train['TweetText'] = X_reduced\n",
    "    test['TweetText'] = X_reduced2\n",
    "    y=pandas.DataFrame.transpose(pandas.DataFrame([labels])).values.ravel()\n",
    "    yt=pandas.DataFrame.transpose(pandas.DataFrame([labels_test])).values.ravel()\n",
    "    ml(train,test,y,yt,time,'sentiment')\n",
    "    \n",
    "    ## classification topic\n",
    "    y2=pandas.DataFrame.transpose(pandas.DataFrame(train['Topic'])).values.ravel()\n",
    "    yt2=pandas.DataFrame.transpose(pandas.DataFrame(test['Topic'])).values.ravel()\n",
    "    y2=y2.astype('int')\n",
    "    yt2=yt2.astype('int')\n",
    "    train2=train.drop(['Topic'],axis=1)\n",
    "    test2=test.drop(['Topic'],axis=1)\n",
    "    ml(train2,test2,y2,yt2,time,'topic')"
   ]
  },
  {
   "cell_type": "code",
   "execution_count": 7,
   "metadata": {},
   "outputs": [
    {
     "data": {
      "image/png": "[encoded data removed]",
      "text/plain": [
       "<Figure size 432x288 with 1 Axes>"
      ]
     },
     "metadata": {
      "needs_background": "light"
     },
     "output_type": "display_data"
    },
    {
     "name": "stdout",
     "output_type": "stream",
     "text": [
      "the best one for sentiment prediction is  kNN 3 neighbors  with a F1 score of  0.4659178378204406\n"
     ]
    },
    {
     "data": {
      "image/png": "[encoded data removed]",
      "text/plain": [
       "<Figure size 432x288 with 1 Axes>"
      ]
     },
     "metadata": {
      "needs_background": "light"
     },
     "output_type": "display_data"
    },
    {
     "name": "stdout",
     "output_type": "stream",
     "text": [
      "the best one for sentiment prediction is  tree  with a F1 score of  0.9900990099009901\n"
     ]
    },
    {
     "data": {
      "image/png": "[encoded data removed]",
      "text/plain": [
       "<Figure size 432x288 with 1 Axes>"
      ]
     },
     "metadata": {
      "needs_background": "light"
     },
     "output_type": "display_data"
    },
    {
     "name": "stdout",
     "output_type": "stream",
     "text": [
      "the best one for sentiment prediction is  kNN 7 neighbors  with a F1 score of  0.45955869019351836\n"
     ]
    },
    {
     "data": {
      "image/png": "[encoded data removed]",
      "text/plain": [
       "<Figure size 432x288 with 1 Axes>"
      ]
     },
     "metadata": {
      "needs_background": "light"
     },
     "output_type": "display_data"
    },
    {
     "name": "stdout",
     "output_type": "stream",
     "text": [
      "the best one for sentiment prediction is  tree  with a F1 score of  0.3173798098399649\n"
     ]
    }
   ],
   "source": [
    "processing(train, test, 'true')\n",
    "# without the time\n",
    "test=test.drop(['TweetDate'],axis=1)\n",
    "train=train.drop(['TweetDate'],axis=1)\n",
    "processing(train, test, 'false')"
   ]
  },
  {
   "cell_type": "markdown",
   "metadata": {},
   "source": [
    "To conclude, 10 differents classifiers have been used. According to the results obtained during the test step.\n",
    "The best classifier for the sentiment prediction is the kNN 3 neighbors  with a F1 score of  0.4659178378204406 with the time column in input and it is the kNN 7 neighbors  with a F1 score of  0.45955869019351836 without the time column in input.\n",
    "\n",
    "About the topic prediction, with the time column, the best classifier is the tree with a F1 score of  0.9900990099009901 and without the time column, the best classifier is still the tree but with a F1 score of  0.3173798098399649\n",
    "\n",
    "The time column is very important for the topic prediction. In fact, most tweets about the same topic have been collected in short amount of time. This explains the important influence of this column on the topic prediction."
   ]
  }
 ],
 "metadata": {
  "kernelspec": {
   "display_name": "Python 3",
   "language": "python",
   "name": "python3"
  },
  "language_info": {
   "codemirror_mode": {
    "name": "ipython",
    "version": 3
   },
   "file_extension": ".py",
   "mimetype": "text/x-python",
   "name": "python",
   "nbconvert_exporter": "python",
   "pygments_lexer": "ipython3",
   "version": "3.7.1"
  }
 },
 "nbformat": 4,
 "nbformat_minor": 2
}
