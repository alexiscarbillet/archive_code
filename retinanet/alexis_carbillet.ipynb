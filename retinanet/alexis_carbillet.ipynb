{
  "nbformat": 4,
  "nbformat_minor": 0,
  "metadata": {
    "colab": {
      "name": "ip5v4.ipynb",
      "provenance": [],
      "collapsed_sections": []
    },
    "kernelspec": {
      "name": "python3",
      "display_name": "Python 3"
    },
    "accelerator": "GPU"
  },
  "cells": [
    {
      "cell_type": "code",
      "metadata": {
        "id": "sxPK4XhXN6jV",
        "colab_type": "code",
        "outputId": "37c42506-05ff-4018-a99e-a0fda16f02bf",
        "colab": {
          "base_uri": "https://localhost:8080/",
          "height": 129
        }
      },
      "source": [
        "from google.colab import drive\n",
        "drive.mount('/content/drive')"
      ],
      "execution_count": 3,
      "outputs": [
        {
          "output_type": "stream",
          "text": [
            "Go to this URL in a browser: https://accounts.google.com/o/oauth2/auth?client_id=947318989803-6bn6qk8qdgf4n4g3pfee6491hc0brc4i.apps.googleusercontent.com&redirect_uri=urn%3aietf%3awg%3aoauth%3a2.0%3aoob&response_type=code&scope=email%20https%3a%2f%2fwww.googleapis.com%2fauth%2fdocs.test%20https%3a%2f%2fwww.googleapis.com%2fauth%2fdrive%20https%3a%2f%2fwww.googleapis.com%2fauth%2fdrive.photos.readonly%20https%3a%2f%2fwww.googleapis.com%2fauth%2fpeopleapi.readonly\n",
            "\n",
            "Enter your authorization code:\n",
            "··········\n",
            "Mounted at /content/drive\n"
          ],
          "name": "stdout"
        }
      ]
    },
    {
      "cell_type": "code",
      "metadata": {
        "id": "iIJy3z4dEPsW",
        "colab_type": "code",
        "outputId": "44de6850-1cb6-468c-f961-84ff16ede065",
        "colab": {
          "base_uri": "https://localhost:8080/",
          "height": 35
        }
      },
      "source": [
        "!pip install Cython"
      ],
      "execution_count": 1,
      "outputs": [
        {
          "output_type": "stream",
          "text": [
            "Requirement already satisfied: Cython in /usr/local/lib/python3.6/dist-packages (0.29.14)\n"
          ],
          "name": "stdout"
        }
      ]
    },
    {
      "cell_type": "code",
      "metadata": {
        "id": "Df6YU1J8GU52",
        "colab_type": "code",
        "outputId": "d7251eb8-2100-4d42-865e-d00e7ef08e80",
        "colab": {
          "base_uri": "https://localhost:8080/",
          "height": 570
        }
      },
      "source": [
        "!pip install keras_retinanet "
      ],
      "execution_count": 2,
      "outputs": [
        {
          "output_type": "stream",
          "text": [
            "Collecting keras_retinanet\n",
            "\u001b[?25l  Downloading https://files.pythonhosted.org/packages/20/ca/63f77949493c63eebf982bc1edb0b54d849b6d709a724328ea5682e6b40e/keras-retinanet-0.5.1.tar.gz (61kB)\n",
            "\r\u001b[K     |█████▍                          | 10kB 28.0MB/s eta 0:00:01\r\u001b[K     |██████████▊                     | 20kB 1.7MB/s eta 0:00:01\r\u001b[K     |████████████████                | 30kB 2.5MB/s eta 0:00:01\r\u001b[K     |█████████████████████▍          | 40kB 1.6MB/s eta 0:00:01\r\u001b[K     |██████████████████████████▊     | 51kB 2.0MB/s eta 0:00:01\r\u001b[K     |████████████████████████████████| 61kB 1.9MB/s \n",
            "\u001b[?25hRequirement already satisfied: keras in /usr/local/lib/python3.6/dist-packages (from keras_retinanet) (2.2.5)\n",
            "Collecting keras-resnet\n",
            "  Downloading https://files.pythonhosted.org/packages/76/d4/a35cbd07381139dda4db42c81b88c59254faac026109022727b45b31bcad/keras-resnet-0.2.0.tar.gz\n",
            "Requirement already satisfied: six in /usr/local/lib/python3.6/dist-packages (from keras_retinanet) (1.12.0)\n",
            "Requirement already satisfied: scipy in /usr/local/lib/python3.6/dist-packages (from keras_retinanet) (1.3.3)\n",
            "Requirement already satisfied: cython in /usr/local/lib/python3.6/dist-packages (from keras_retinanet) (0.29.14)\n",
            "Requirement already satisfied: Pillow in /usr/local/lib/python3.6/dist-packages (from keras_retinanet) (4.3.0)\n",
            "Requirement already satisfied: opencv-python in /usr/local/lib/python3.6/dist-packages (from keras_retinanet) (4.1.2.30)\n",
            "Requirement already satisfied: progressbar2 in /usr/local/lib/python3.6/dist-packages (from keras_retinanet) (3.38.0)\n",
            "Requirement already satisfied: keras-applications>=1.0.8 in /usr/local/lib/python3.6/dist-packages (from keras->keras_retinanet) (1.0.8)\n",
            "Requirement already satisfied: h5py in /usr/local/lib/python3.6/dist-packages (from keras->keras_retinanet) (2.8.0)\n",
            "Requirement already satisfied: pyyaml in /usr/local/lib/python3.6/dist-packages (from keras->keras_retinanet) (3.13)\n",
            "Requirement already satisfied: keras-preprocessing>=1.1.0 in /usr/local/lib/python3.6/dist-packages (from keras->keras_retinanet) (1.1.0)\n",
            "Requirement already satisfied: numpy>=1.9.1 in /usr/local/lib/python3.6/dist-packages (from keras->keras_retinanet) (1.17.4)\n",
            "Requirement already satisfied: olefile in /usr/local/lib/python3.6/dist-packages (from Pillow->keras_retinanet) (0.46)\n",
            "Requirement already satisfied: python-utils>=2.3.0 in /usr/local/lib/python3.6/dist-packages (from progressbar2->keras_retinanet) (2.3.0)\n",
            "Building wheels for collected packages: keras-retinanet, keras-resnet\n",
            "  Building wheel for keras-retinanet (setup.py) ... \u001b[?25l\u001b[?25hdone\n",
            "  Created wheel for keras-retinanet: filename=keras_retinanet-0.5.1-cp36-cp36m-linux_x86_64.whl size=156782 sha256=93135a7b23d4f042a08df12a02fc8b8d79cdbfd115361db8b4eb15d212b3e323\n",
            "  Stored in directory: /root/.cache/pip/wheels/d9/a5/98/87f8ed08913b184bb625dde1c1277a4dfe969c77b377abde69\n",
            "  Building wheel for keras-resnet (setup.py) ... \u001b[?25l\u001b[?25hdone\n",
            "  Created wheel for keras-resnet: filename=keras_resnet-0.2.0-py2.py3-none-any.whl size=20485 sha256=591b5ee3df123be8517ca1aa3a72294c544c715a65765a195742a438c71d88d9\n",
            "  Stored in directory: /root/.cache/pip/wheels/5f/09/a5/497a30fd9ad9964e98a1254d1e164bcd1b8a5eda36197ecb3c\n",
            "Successfully built keras-retinanet keras-resnet\n",
            "Installing collected packages: keras-resnet, keras-retinanet\n",
            "Successfully installed keras-resnet-0.2.0 keras-retinanet-0.5.1\n"
          ],
          "name": "stdout"
        }
      ]
    },
    {
      "cell_type": "code",
      "metadata": {
        "id": "HFildfOWluhg",
        "colab_type": "code",
        "outputId": "53b2ad6c-cd11-4ce1-98bc-60f2234c04ac",
        "colab": {
          "base_uri": "https://localhost:8080/",
          "height": 146
        }
      },
      "source": [
        "# or cp from the git using url + .git\n",
        "!git clone https://github.com/fizyr/keras-retinanet.git"
      ],
      "execution_count": 0,
      "outputs": [
        {
          "output_type": "stream",
          "text": [
            "Cloning into 'keras-retinanet'...\n",
            "remote: Enumerating objects: 22, done.\u001b[K\n",
            "remote: Counting objects: 100% (22/22), done.\u001b[K\n",
            "remote: Compressing objects: 100% (20/20), done.\u001b[K\n",
            "remote: Total 5410 (delta 8), reused 7 (delta 2), pack-reused 5388\u001b[K\n",
            "Receiving objects: 100% (5410/5410), 13.32 MiB | 23.88 MiB/s, done.\n",
            "Resolving deltas: 100% (3611/3611), done.\n"
          ],
          "name": "stdout"
        }
      ]
    },
    {
      "cell_type": "code",
      "metadata": {
        "id": "orX9Ih_pFRha",
        "colab_type": "code",
        "outputId": "45d18b50-e443-4f77-a1ea-51a56007ea8a",
        "colab": {
          "base_uri": "https://localhost:8080/",
          "height": 100
        }
      },
      "source": [
        "# show images inline\n",
        "%matplotlib inline\n",
        "\n",
        "# automatically reload modules when they have changed\n",
        "%load_ext autoreload\n",
        "%autoreload 2\n",
        "\n",
        "# import keras\n",
        "import keras\n",
        "\n",
        "# import keras_retinanet\n",
        "from keras_retinanet import models\n",
        "from keras_retinanet.utils.image import read_image_bgr, preprocess_image, resize_image\n",
        "from keras_retinanet.utils.visualization import draw_box, draw_caption\n",
        "from keras_retinanet.utils.colors import label_color\n",
        "\n",
        "\n",
        "# import miscellaneous modules\n",
        "import matplotlib.pyplot as plt\n",
        "import cv2\n",
        "import os\n",
        "import numpy as np\n",
        "import time"
      ],
      "execution_count": 4,
      "outputs": [
        {
          "output_type": "stream",
          "text": [
            "Using TensorFlow backend.\n"
          ],
          "name": "stderr"
        },
        {
          "output_type": "display_data",
          "data": {
            "text/html": [
              "<p style=\"color: red;\">\n",
              "The default version of TensorFlow in Colab will soon switch to TensorFlow 2.x.<br>\n",
              "We recommend you <a href=\"https://www.tensorflow.org/guide/migrate\" target=\"_blank\">upgrade</a> now \n",
              "or ensure your notebook will continue to use TensorFlow 1.x via the <code>%tensorflow_version 1.x</code> magic:\n",
              "<a href=\"https://colab.research.google.com/notebooks/tensorflow_version.ipynb\" target=\"_blank\">more info</a>.</p>\n"
            ],
            "text/plain": [
              "<IPython.core.display.HTML object>"
            ]
          },
          "metadata": {
            "tags": []
          }
        }
      ]
    },
    {
      "cell_type": "code",
      "metadata": {
        "id": "IOisfo2LpM5x",
        "colab_type": "code",
        "outputId": "999dae13-939b-4412-8e4c-5a3c6d159850",
        "colab": {
          "base_uri": "https://localhost:8080/",
          "height": 394
        }
      },
      "source": [
        "import pandas\n",
        "df=pandas.read_csv('/content/drive/My Drive/Colab Notebooks/class_map.csv') \n",
        "df=pandas.concat([pandas.DataFrame([{'0':0}]), df], ignore_index=True)\n",
        "df # problem, first line in the name of the colums"
      ],
      "execution_count": 0,
      "outputs": [
        {
          "output_type": "execute_result",
          "data": {
            "text/html": [
              "<div>\n",
              "<style scoped>\n",
              "    .dataframe tbody tr th:only-of-type {\n",
              "        vertical-align: middle;\n",
              "    }\n",
              "\n",
              "    .dataframe tbody tr th {\n",
              "        vertical-align: top;\n",
              "    }\n",
              "\n",
              "    .dataframe thead th {\n",
              "        text-align: right;\n",
              "    }\n",
              "</style>\n",
              "<table border=\"1\" class=\"dataframe\">\n",
              "  <thead>\n",
              "    <tr style=\"text-align: right;\">\n",
              "      <th></th>\n",
              "      <th>0</th>\n",
              "    </tr>\n",
              "  </thead>\n",
              "  <tbody>\n",
              "    <tr>\n",
              "      <th>0</th>\n",
              "      <td>0</td>\n",
              "    </tr>\n",
              "    <tr>\n",
              "      <th>1</th>\n",
              "      <td>1</td>\n",
              "    </tr>\n",
              "    <tr>\n",
              "      <th>2</th>\n",
              "      <td>2</td>\n",
              "    </tr>\n",
              "    <tr>\n",
              "      <th>3</th>\n",
              "      <td>3</td>\n",
              "    </tr>\n",
              "    <tr>\n",
              "      <th>4</th>\n",
              "      <td>4</td>\n",
              "    </tr>\n",
              "    <tr>\n",
              "      <th>5</th>\n",
              "      <td>5</td>\n",
              "    </tr>\n",
              "    <tr>\n",
              "      <th>6</th>\n",
              "      <td>6</td>\n",
              "    </tr>\n",
              "    <tr>\n",
              "      <th>7</th>\n",
              "      <td>7</td>\n",
              "    </tr>\n",
              "    <tr>\n",
              "      <th>8</th>\n",
              "      <td>8</td>\n",
              "    </tr>\n",
              "    <tr>\n",
              "      <th>9</th>\n",
              "      <td>9</td>\n",
              "    </tr>\n",
              "    <tr>\n",
              "      <th>10</th>\n",
              "      <td>1</td>\n",
              "    </tr>\n",
              "  </tbody>\n",
              "</table>\n",
              "</div>"
            ],
            "text/plain": [
              "    0\n",
              "0   0\n",
              "1   1\n",
              "2   2\n",
              "3   3\n",
              "4   4\n",
              "5   5\n",
              "6   6\n",
              "7   7\n",
              "8   8\n",
              "9   9\n",
              "10  1"
            ]
          },
          "metadata": {
            "tags": []
          },
          "execution_count": 39
        }
      ]
    },
    {
      "cell_type": "code",
      "metadata": {
        "id": "Tj2dISlRsYm_",
        "colab_type": "code",
        "outputId": "b33ce67b-add8-4179-d58a-78dba9d0df91",
        "colab": {
          "base_uri": "https://localhost:8080/",
          "height": 394
        }
      },
      "source": [
        "df.to_csv('good.csv')\n",
        "df=pandas.read_csv('/content/good.csv')\n",
        "df"
      ],
      "execution_count": 0,
      "outputs": [
        {
          "output_type": "execute_result",
          "data": {
            "text/html": [
              "<div>\n",
              "<style scoped>\n",
              "    .dataframe tbody tr th:only-of-type {\n",
              "        vertical-align: middle;\n",
              "    }\n",
              "\n",
              "    .dataframe tbody tr th {\n",
              "        vertical-align: top;\n",
              "    }\n",
              "\n",
              "    .dataframe thead th {\n",
              "        text-align: right;\n",
              "    }\n",
              "</style>\n",
              "<table border=\"1\" class=\"dataframe\">\n",
              "  <thead>\n",
              "    <tr style=\"text-align: right;\">\n",
              "      <th></th>\n",
              "      <th>Unnamed: 0</th>\n",
              "      <th>0</th>\n",
              "    </tr>\n",
              "  </thead>\n",
              "  <tbody>\n",
              "    <tr>\n",
              "      <th>0</th>\n",
              "      <td>0</td>\n",
              "      <td>0</td>\n",
              "    </tr>\n",
              "    <tr>\n",
              "      <th>1</th>\n",
              "      <td>1</td>\n",
              "      <td>1</td>\n",
              "    </tr>\n",
              "    <tr>\n",
              "      <th>2</th>\n",
              "      <td>2</td>\n",
              "      <td>2</td>\n",
              "    </tr>\n",
              "    <tr>\n",
              "      <th>3</th>\n",
              "      <td>3</td>\n",
              "      <td>3</td>\n",
              "    </tr>\n",
              "    <tr>\n",
              "      <th>4</th>\n",
              "      <td>4</td>\n",
              "      <td>4</td>\n",
              "    </tr>\n",
              "    <tr>\n",
              "      <th>5</th>\n",
              "      <td>5</td>\n",
              "      <td>5</td>\n",
              "    </tr>\n",
              "    <tr>\n",
              "      <th>6</th>\n",
              "      <td>6</td>\n",
              "      <td>6</td>\n",
              "    </tr>\n",
              "    <tr>\n",
              "      <th>7</th>\n",
              "      <td>7</td>\n",
              "      <td>7</td>\n",
              "    </tr>\n",
              "    <tr>\n",
              "      <th>8</th>\n",
              "      <td>8</td>\n",
              "      <td>8</td>\n",
              "    </tr>\n",
              "    <tr>\n",
              "      <th>9</th>\n",
              "      <td>9</td>\n",
              "      <td>9</td>\n",
              "    </tr>\n",
              "    <tr>\n",
              "      <th>10</th>\n",
              "      <td>10</td>\n",
              "      <td>1</td>\n",
              "    </tr>\n",
              "  </tbody>\n",
              "</table>\n",
              "</div>"
            ],
            "text/plain": [
              "    Unnamed: 0  0\n",
              "0            0  0\n",
              "1            1  1\n",
              "2            2  2\n",
              "3            3  3\n",
              "4            4  4\n",
              "5            5  5\n",
              "6            6  6\n",
              "7            7  7\n",
              "8            8  8\n",
              "9            9  9\n",
              "10          10  1"
            ]
          },
          "metadata": {
            "tags": []
          },
          "execution_count": 40
        }
      ]
    },
    {
      "cell_type": "code",
      "metadata": {
        "id": "qS2wEEJqosSF",
        "colab_type": "code",
        "outputId": "2878ff47-0ed0-47ae-da45-76d069997686",
        "colab": {
          "base_uri": "https://localhost:8080/",
          "height": 424
        }
      },
      "source": [
        "import pandas\n",
        "df2=pandas.read_csv('/content/good.csv')\n",
        "df2"
      ],
      "execution_count": 5,
      "outputs": [
        {
          "output_type": "execute_result",
          "data": {
            "text/html": [
              "<div>\n",
              "<style scoped>\n",
              "    .dataframe tbody tr th:only-of-type {\n",
              "        vertical-align: middle;\n",
              "    }\n",
              "\n",
              "    .dataframe tbody tr th {\n",
              "        vertical-align: top;\n",
              "    }\n",
              "\n",
              "    .dataframe thead th {\n",
              "        text-align: right;\n",
              "    }\n",
              "</style>\n",
              "<table border=\"1\" class=\"dataframe\">\n",
              "  <thead>\n",
              "    <tr style=\"text-align: right;\">\n",
              "      <th></th>\n",
              "      <th>image_id</th>\n",
              "      <th>y1</th>\n",
              "      <th>x1</th>\n",
              "      <th>y2</th>\n",
              "      <th>x2</th>\n",
              "      <th>class</th>\n",
              "    </tr>\n",
              "  </thead>\n",
              "  <tbody>\n",
              "    <tr>\n",
              "      <th>0</th>\n",
              "      <td>ds11/1.png</td>\n",
              "      <td>104</td>\n",
              "      <td>179</td>\n",
              "      <td>172</td>\n",
              "      <td>244</td>\n",
              "      <td>0</td>\n",
              "    </tr>\n",
              "    <tr>\n",
              "      <th>1</th>\n",
              "      <td>ds11/2.png</td>\n",
              "      <td>104</td>\n",
              "      <td>182</td>\n",
              "      <td>170</td>\n",
              "      <td>243</td>\n",
              "      <td>0</td>\n",
              "    </tr>\n",
              "    <tr>\n",
              "      <th>2</th>\n",
              "      <td>ds11/3.png</td>\n",
              "      <td>114</td>\n",
              "      <td>174</td>\n",
              "      <td>180</td>\n",
              "      <td>245</td>\n",
              "      <td>0</td>\n",
              "    </tr>\n",
              "    <tr>\n",
              "      <th>3</th>\n",
              "      <td>ds11/4.png</td>\n",
              "      <td>103</td>\n",
              "      <td>177</td>\n",
              "      <td>172</td>\n",
              "      <td>246</td>\n",
              "      <td>0</td>\n",
              "    </tr>\n",
              "    <tr>\n",
              "      <th>4</th>\n",
              "      <td>ds11/5.png</td>\n",
              "      <td>109</td>\n",
              "      <td>170</td>\n",
              "      <td>176</td>\n",
              "      <td>247</td>\n",
              "      <td>0</td>\n",
              "    </tr>\n",
              "    <tr>\n",
              "      <th>...</th>\n",
              "      <td>...</td>\n",
              "      <td>...</td>\n",
              "      <td>...</td>\n",
              "      <td>...</td>\n",
              "      <td>...</td>\n",
              "      <td>...</td>\n",
              "    </tr>\n",
              "    <tr>\n",
              "      <th>2598</th>\n",
              "      <td>ds11/712.png</td>\n",
              "      <td>91</td>\n",
              "      <td>76</td>\n",
              "      <td>127</td>\n",
              "      <td>110</td>\n",
              "      <td>8</td>\n",
              "    </tr>\n",
              "    <tr>\n",
              "      <th>2599</th>\n",
              "      <td>ds11/712.png</td>\n",
              "      <td>93</td>\n",
              "      <td>108</td>\n",
              "      <td>130</td>\n",
              "      <td>141</td>\n",
              "      <td>8</td>\n",
              "    </tr>\n",
              "    <tr>\n",
              "      <th>2600</th>\n",
              "      <td>ds11/919.png</td>\n",
              "      <td>104</td>\n",
              "      <td>133</td>\n",
              "      <td>128</td>\n",
              "      <td>175</td>\n",
              "      <td>2</td>\n",
              "    </tr>\n",
              "    <tr>\n",
              "      <th>2601</th>\n",
              "      <td>ds11/921.png</td>\n",
              "      <td>129</td>\n",
              "      <td>54</td>\n",
              "      <td>153</td>\n",
              "      <td>92</td>\n",
              "      <td>2</td>\n",
              "    </tr>\n",
              "    <tr>\n",
              "      <th>2602</th>\n",
              "      <td>ds11/964.png</td>\n",
              "      <td>145</td>\n",
              "      <td>177</td>\n",
              "      <td>167</td>\n",
              "      <td>219</td>\n",
              "      <td>2</td>\n",
              "    </tr>\n",
              "  </tbody>\n",
              "</table>\n",
              "<p>2603 rows × 6 columns</p>\n",
              "</div>"
            ],
            "text/plain": [
              "          image_id   y1   x1   y2   x2  class\n",
              "0       ds11/1.png  104  179  172  244      0\n",
              "1       ds11/2.png  104  182  170  243      0\n",
              "2       ds11/3.png  114  174  180  245      0\n",
              "3       ds11/4.png  103  177  172  246      0\n",
              "4       ds11/5.png  109  170  176  247      0\n",
              "...            ...  ...  ...  ...  ...    ...\n",
              "2598  ds11/712.png   91   76  127  110      8\n",
              "2599  ds11/712.png   93  108  130  141      8\n",
              "2600  ds11/919.png  104  133  128  175      2\n",
              "2601  ds11/921.png  129   54  153   92      2\n",
              "2602  ds11/964.png  145  177  167  219      2\n",
              "\n",
              "[2603 rows x 6 columns]"
            ]
          },
          "metadata": {
            "tags": []
          },
          "execution_count": 5
        }
      ]
    },
    {
      "cell_type": "code",
      "metadata": {
        "id": "tyoQHEj-sasl",
        "colab_type": "code",
        "outputId": "58e1df92-6fa8-4a8a-8e5c-8d8002e23c44",
        "colab": {
          "base_uri": "https://localhost:8080/",
          "height": 424
        }
      },
      "source": [
        "# swap x1 and y1 # swap x2 and y2\n",
        "x=pandas.DataFrame({'image_id':df2['image_id'],'x1':df2['x1'],'y1':df2['y1'],'x2':df2['x2'],'y2':df2['y2'],'class_name':df2['class']})\n",
        "x"
      ],
      "execution_count": 6,
      "outputs": [
        {
          "output_type": "execute_result",
          "data": {
            "text/html": [
              "<div>\n",
              "<style scoped>\n",
              "    .dataframe tbody tr th:only-of-type {\n",
              "        vertical-align: middle;\n",
              "    }\n",
              "\n",
              "    .dataframe tbody tr th {\n",
              "        vertical-align: top;\n",
              "    }\n",
              "\n",
              "    .dataframe thead th {\n",
              "        text-align: right;\n",
              "    }\n",
              "</style>\n",
              "<table border=\"1\" class=\"dataframe\">\n",
              "  <thead>\n",
              "    <tr style=\"text-align: right;\">\n",
              "      <th></th>\n",
              "      <th>image_id</th>\n",
              "      <th>x1</th>\n",
              "      <th>y1</th>\n",
              "      <th>x2</th>\n",
              "      <th>y2</th>\n",
              "      <th>class_name</th>\n",
              "    </tr>\n",
              "  </thead>\n",
              "  <tbody>\n",
              "    <tr>\n",
              "      <th>0</th>\n",
              "      <td>ds11/1.png</td>\n",
              "      <td>179</td>\n",
              "      <td>104</td>\n",
              "      <td>244</td>\n",
              "      <td>172</td>\n",
              "      <td>0</td>\n",
              "    </tr>\n",
              "    <tr>\n",
              "      <th>1</th>\n",
              "      <td>ds11/2.png</td>\n",
              "      <td>182</td>\n",
              "      <td>104</td>\n",
              "      <td>243</td>\n",
              "      <td>170</td>\n",
              "      <td>0</td>\n",
              "    </tr>\n",
              "    <tr>\n",
              "      <th>2</th>\n",
              "      <td>ds11/3.png</td>\n",
              "      <td>174</td>\n",
              "      <td>114</td>\n",
              "      <td>245</td>\n",
              "      <td>180</td>\n",
              "      <td>0</td>\n",
              "    </tr>\n",
              "    <tr>\n",
              "      <th>3</th>\n",
              "      <td>ds11/4.png</td>\n",
              "      <td>177</td>\n",
              "      <td>103</td>\n",
              "      <td>246</td>\n",
              "      <td>172</td>\n",
              "      <td>0</td>\n",
              "    </tr>\n",
              "    <tr>\n",
              "      <th>4</th>\n",
              "      <td>ds11/5.png</td>\n",
              "      <td>170</td>\n",
              "      <td>109</td>\n",
              "      <td>247</td>\n",
              "      <td>176</td>\n",
              "      <td>0</td>\n",
              "    </tr>\n",
              "    <tr>\n",
              "      <th>...</th>\n",
              "      <td>...</td>\n",
              "      <td>...</td>\n",
              "      <td>...</td>\n",
              "      <td>...</td>\n",
              "      <td>...</td>\n",
              "      <td>...</td>\n",
              "    </tr>\n",
              "    <tr>\n",
              "      <th>2598</th>\n",
              "      <td>ds11/712.png</td>\n",
              "      <td>76</td>\n",
              "      <td>91</td>\n",
              "      <td>110</td>\n",
              "      <td>127</td>\n",
              "      <td>8</td>\n",
              "    </tr>\n",
              "    <tr>\n",
              "      <th>2599</th>\n",
              "      <td>ds11/712.png</td>\n",
              "      <td>108</td>\n",
              "      <td>93</td>\n",
              "      <td>141</td>\n",
              "      <td>130</td>\n",
              "      <td>8</td>\n",
              "    </tr>\n",
              "    <tr>\n",
              "      <th>2600</th>\n",
              "      <td>ds11/919.png</td>\n",
              "      <td>133</td>\n",
              "      <td>104</td>\n",
              "      <td>175</td>\n",
              "      <td>128</td>\n",
              "      <td>2</td>\n",
              "    </tr>\n",
              "    <tr>\n",
              "      <th>2601</th>\n",
              "      <td>ds11/921.png</td>\n",
              "      <td>54</td>\n",
              "      <td>129</td>\n",
              "      <td>92</td>\n",
              "      <td>153</td>\n",
              "      <td>2</td>\n",
              "    </tr>\n",
              "    <tr>\n",
              "      <th>2602</th>\n",
              "      <td>ds11/964.png</td>\n",
              "      <td>177</td>\n",
              "      <td>145</td>\n",
              "      <td>219</td>\n",
              "      <td>167</td>\n",
              "      <td>2</td>\n",
              "    </tr>\n",
              "  </tbody>\n",
              "</table>\n",
              "<p>2603 rows × 6 columns</p>\n",
              "</div>"
            ],
            "text/plain": [
              "          image_id   x1   y1   x2   y2  class_name\n",
              "0       ds11/1.png  179  104  244  172           0\n",
              "1       ds11/2.png  182  104  243  170           0\n",
              "2       ds11/3.png  174  114  245  180           0\n",
              "3       ds11/4.png  177  103  246  172           0\n",
              "4       ds11/5.png  170  109  247  176           0\n",
              "...            ...  ...  ...  ...  ...         ...\n",
              "2598  ds11/712.png   76   91  110  127           8\n",
              "2599  ds11/712.png  108   93  141  130           8\n",
              "2600  ds11/919.png  133  104  175  128           2\n",
              "2601  ds11/921.png   54  129   92  153           2\n",
              "2602  ds11/964.png  177  145  219  167           2\n",
              "\n",
              "[2603 rows x 6 columns]"
            ]
          },
          "metadata": {
            "tags": []
          },
          "execution_count": 6
        }
      ]
    },
    {
      "cell_type": "code",
      "metadata": {
        "id": "hd3XZkCpOVnq",
        "colab_type": "code",
        "colab": {}
      },
      "source": [
        "#df2[:2000].to_csv('/content/drive/My Drive/Colab Notebooks/train.csv',index=False)\n",
        "#df2[2000:].to_csv('/content/drive/My Drive/Colab Notebooks/val.csv',index=False)\n",
        "x[:2000].to_csv('/content/drive/My Drive/Colab Notebooks/train.csv',index=False, header=False)\n",
        "x[2000:].to_csv('/content/drive/My Drive/Colab Notebooks/val.csv',index=False, header=False)"
      ],
      "execution_count": 0,
      "outputs": []
    },
    {
      "cell_type": "code",
      "metadata": {
        "id": "h3AxTYBOzoPg",
        "colab_type": "code",
        "outputId": "a6c479b1-22e0-4a81-f260-4c306f8f074c",
        "colab": {
          "base_uri": "https://localhost:8080/",
          "height": 424
        }
      },
      "source": [
        "pandas.read_csv('/content/drive/My Drive/Colab Notebooks/train.csv')"
      ],
      "execution_count": 0,
      "outputs": [
        {
          "output_type": "execute_result",
          "data": {
            "text/html": [
              "<div>\n",
              "<style scoped>\n",
              "    .dataframe tbody tr th:only-of-type {\n",
              "        vertical-align: middle;\n",
              "    }\n",
              "\n",
              "    .dataframe tbody tr th {\n",
              "        vertical-align: top;\n",
              "    }\n",
              "\n",
              "    .dataframe thead th {\n",
              "        text-align: right;\n",
              "    }\n",
              "</style>\n",
              "<table border=\"1\" class=\"dataframe\">\n",
              "  <thead>\n",
              "    <tr style=\"text-align: right;\">\n",
              "      <th></th>\n",
              "      <th>ds11/1.png</th>\n",
              "      <th>179</th>\n",
              "      <th>104</th>\n",
              "      <th>244</th>\n",
              "      <th>172</th>\n",
              "      <th>0</th>\n",
              "    </tr>\n",
              "  </thead>\n",
              "  <tbody>\n",
              "    <tr>\n",
              "      <th>0</th>\n",
              "      <td>ds11/2.png</td>\n",
              "      <td>182</td>\n",
              "      <td>104</td>\n",
              "      <td>243</td>\n",
              "      <td>170</td>\n",
              "      <td>0</td>\n",
              "    </tr>\n",
              "    <tr>\n",
              "      <th>1</th>\n",
              "      <td>ds11/3.png</td>\n",
              "      <td>174</td>\n",
              "      <td>114</td>\n",
              "      <td>245</td>\n",
              "      <td>180</td>\n",
              "      <td>0</td>\n",
              "    </tr>\n",
              "    <tr>\n",
              "      <th>2</th>\n",
              "      <td>ds11/4.png</td>\n",
              "      <td>177</td>\n",
              "      <td>103</td>\n",
              "      <td>246</td>\n",
              "      <td>172</td>\n",
              "      <td>0</td>\n",
              "    </tr>\n",
              "    <tr>\n",
              "      <th>3</th>\n",
              "      <td>ds11/5.png</td>\n",
              "      <td>170</td>\n",
              "      <td>109</td>\n",
              "      <td>247</td>\n",
              "      <td>176</td>\n",
              "      <td>0</td>\n",
              "    </tr>\n",
              "    <tr>\n",
              "      <th>4</th>\n",
              "      <td>ds11/6.png</td>\n",
              "      <td>171</td>\n",
              "      <td>110</td>\n",
              "      <td>247</td>\n",
              "      <td>174</td>\n",
              "      <td>0</td>\n",
              "    </tr>\n",
              "    <tr>\n",
              "      <th>...</th>\n",
              "      <td>...</td>\n",
              "      <td>...</td>\n",
              "      <td>...</td>\n",
              "      <td>...</td>\n",
              "      <td>...</td>\n",
              "      <td>...</td>\n",
              "    </tr>\n",
              "    <tr>\n",
              "      <th>1994</th>\n",
              "      <td>ds11/795.png</td>\n",
              "      <td>10</td>\n",
              "      <td>168</td>\n",
              "      <td>47</td>\n",
              "      <td>188</td>\n",
              "      <td>9</td>\n",
              "    </tr>\n",
              "    <tr>\n",
              "      <th>1995</th>\n",
              "      <td>ds11/795.png</td>\n",
              "      <td>0</td>\n",
              "      <td>120</td>\n",
              "      <td>19</td>\n",
              "      <td>155</td>\n",
              "      <td>9</td>\n",
              "    </tr>\n",
              "    <tr>\n",
              "      <th>1996</th>\n",
              "      <td>ds11/795.png</td>\n",
              "      <td>16</td>\n",
              "      <td>117</td>\n",
              "      <td>47</td>\n",
              "      <td>149</td>\n",
              "      <td>9</td>\n",
              "    </tr>\n",
              "    <tr>\n",
              "      <th>1997</th>\n",
              "      <td>ds11/795.png</td>\n",
              "      <td>45</td>\n",
              "      <td>101</td>\n",
              "      <td>76</td>\n",
              "      <td>131</td>\n",
              "      <td>9</td>\n",
              "    </tr>\n",
              "    <tr>\n",
              "      <th>1998</th>\n",
              "      <td>ds11/795.png</td>\n",
              "      <td>72</td>\n",
              "      <td>142</td>\n",
              "      <td>100</td>\n",
              "      <td>170</td>\n",
              "      <td>9</td>\n",
              "    </tr>\n",
              "  </tbody>\n",
              "</table>\n",
              "<p>1999 rows × 6 columns</p>\n",
              "</div>"
            ],
            "text/plain": [
              "        ds11/1.png  179  104  244  172  0\n",
              "0       ds11/2.png  182  104  243  170  0\n",
              "1       ds11/3.png  174  114  245  180  0\n",
              "2       ds11/4.png  177  103  246  172  0\n",
              "3       ds11/5.png  170  109  247  176  0\n",
              "4       ds11/6.png  171  110  247  174  0\n",
              "...            ...  ...  ...  ...  ... ..\n",
              "1994  ds11/795.png   10  168   47  188  9\n",
              "1995  ds11/795.png    0  120   19  155  9\n",
              "1996  ds11/795.png   16  117   47  149  9\n",
              "1997  ds11/795.png   45  101   76  131  9\n",
              "1998  ds11/795.png   72  142  100  170  9\n",
              "\n",
              "[1999 rows x 6 columns]"
            ]
          },
          "metadata": {
            "tags": []
          },
          "execution_count": 54
        }
      ]
    },
    {
      "cell_type": "code",
      "metadata": {
        "id": "E6Biqjjft5hq",
        "colab_type": "code",
        "outputId": "b3825f37-cddb-4680-cf8d-ccf302d35ec8",
        "colab": {
          "base_uri": "https://localhost:8080/",
          "height": 1000
        }
      },
      "source": [
        "from keras_retinanet.bin import train\n",
        "train.main(['--epochs', '40', '--steps', '100', 'csv', '/content/drive/My Drive/Colab Notebooks/train.csv','/content/drive/My Drive/Colab Notebooks/good.csv','--val-annotations', '/content/drive/My Drive/Colab Notebooks/val.csv']) "
      ],
      "execution_count": 33,
      "outputs": [
        {
          "output_type": "stream",
          "text": [
            "Creating model, this may take a second...\n",
            "Model: \"retinanet\"\n",
            "__________________________________________________________________________________________________\n",
            "Layer (type)                    Output Shape         Param #     Connected to                     \n",
            "==================================================================================================\n",
            "input_7 (InputLayer)            (None, None, None, 3 0                                            \n",
            "__________________________________________________________________________________________________\n",
            "conv1 (Conv2D)                  (None, None, None, 6 9408        input_7[0][0]                    \n",
            "__________________________________________________________________________________________________\n",
            "bn_conv1 (BatchNormalization)   (None, None, None, 6 256         conv1[0][0]                      \n",
            "__________________________________________________________________________________________________\n",
            "conv1_relu (Activation)         (None, None, None, 6 0           bn_conv1[0][0]                   \n",
            "__________________________________________________________________________________________________\n",
            "pool1 (MaxPooling2D)            (None, None, None, 6 0           conv1_relu[0][0]                 \n",
            "__________________________________________________________________________________________________\n",
            "res2a_branch2a (Conv2D)         (None, None, None, 6 4096        pool1[0][0]                      \n",
            "__________________________________________________________________________________________________\n",
            "bn2a_branch2a (BatchNormalizati (None, None, None, 6 256         res2a_branch2a[0][0]             \n",
            "__________________________________________________________________________________________________\n",
            "res2a_branch2a_relu (Activation (None, None, None, 6 0           bn2a_branch2a[0][0]              \n",
            "__________________________________________________________________________________________________\n",
            "padding2a_branch2b (ZeroPadding (None, None, None, 6 0           res2a_branch2a_relu[0][0]        \n",
            "__________________________________________________________________________________________________\n",
            "res2a_branch2b (Conv2D)         (None, None, None, 6 36864       padding2a_branch2b[0][0]         \n",
            "__________________________________________________________________________________________________\n",
            "bn2a_branch2b (BatchNormalizati (None, None, None, 6 256         res2a_branch2b[0][0]             \n",
            "__________________________________________________________________________________________________\n",
            "res2a_branch2b_relu (Activation (None, None, None, 6 0           bn2a_branch2b[0][0]              \n",
            "__________________________________________________________________________________________________\n",
            "res2a_branch2c (Conv2D)         (None, None, None, 2 16384       res2a_branch2b_relu[0][0]        \n",
            "__________________________________________________________________________________________________\n",
            "res2a_branch1 (Conv2D)          (None, None, None, 2 16384       pool1[0][0]                      \n",
            "__________________________________________________________________________________________________\n",
            "bn2a_branch2c (BatchNormalizati (None, None, None, 2 1024        res2a_branch2c[0][0]             \n",
            "__________________________________________________________________________________________________\n",
            "bn2a_branch1 (BatchNormalizatio (None, None, None, 2 1024        res2a_branch1[0][0]              \n",
            "__________________________________________________________________________________________________\n",
            "res2a (Add)                     (None, None, None, 2 0           bn2a_branch2c[0][0]              \n",
            "                                                                 bn2a_branch1[0][0]               \n",
            "__________________________________________________________________________________________________\n",
            "res2a_relu (Activation)         (None, None, None, 2 0           res2a[0][0]                      \n",
            "__________________________________________________________________________________________________\n",
            "res2b_branch2a (Conv2D)         (None, None, None, 6 16384       res2a_relu[0][0]                 \n",
            "__________________________________________________________________________________________________\n",
            "bn2b_branch2a (BatchNormalizati (None, None, None, 6 256         res2b_branch2a[0][0]             \n",
            "__________________________________________________________________________________________________\n",
            "res2b_branch2a_relu (Activation (None, None, None, 6 0           bn2b_branch2a[0][0]              \n",
            "__________________________________________________________________________________________________\n",
            "padding2b_branch2b (ZeroPadding (None, None, None, 6 0           res2b_branch2a_relu[0][0]        \n",
            "__________________________________________________________________________________________________\n",
            "res2b_branch2b (Conv2D)         (None, None, None, 6 36864       padding2b_branch2b[0][0]         \n",
            "__________________________________________________________________________________________________\n",
            "bn2b_branch2b (BatchNormalizati (None, None, None, 6 256         res2b_branch2b[0][0]             \n",
            "__________________________________________________________________________________________________\n",
            "res2b_branch2b_relu (Activation (None, None, None, 6 0           bn2b_branch2b[0][0]              \n",
            "__________________________________________________________________________________________________\n",
            "res2b_branch2c (Conv2D)         (None, None, None, 2 16384       res2b_branch2b_relu[0][0]        \n",
            "__________________________________________________________________________________________________\n",
            "bn2b_branch2c (BatchNormalizati (None, None, None, 2 1024        res2b_branch2c[0][0]             \n",
            "__________________________________________________________________________________________________\n",
            "res2b (Add)                     (None, None, None, 2 0           bn2b_branch2c[0][0]              \n",
            "                                                                 res2a_relu[0][0]                 \n",
            "__________________________________________________________________________________________________\n",
            "res2b_relu (Activation)         (None, None, None, 2 0           res2b[0][0]                      \n",
            "__________________________________________________________________________________________________\n",
            "res2c_branch2a (Conv2D)         (None, None, None, 6 16384       res2b_relu[0][0]                 \n",
            "__________________________________________________________________________________________________\n",
            "bn2c_branch2a (BatchNormalizati (None, None, None, 6 256         res2c_branch2a[0][0]             \n",
            "__________________________________________________________________________________________________\n",
            "res2c_branch2a_relu (Activation (None, None, None, 6 0           bn2c_branch2a[0][0]              \n",
            "__________________________________________________________________________________________________\n",
            "padding2c_branch2b (ZeroPadding (None, None, None, 6 0           res2c_branch2a_relu[0][0]        \n",
            "__________________________________________________________________________________________________\n",
            "res2c_branch2b (Conv2D)         (None, None, None, 6 36864       padding2c_branch2b[0][0]         \n",
            "__________________________________________________________________________________________________\n",
            "bn2c_branch2b (BatchNormalizati (None, None, None, 6 256         res2c_branch2b[0][0]             \n",
            "__________________________________________________________________________________________________\n",
            "res2c_branch2b_relu (Activation (None, None, None, 6 0           bn2c_branch2b[0][0]              \n",
            "__________________________________________________________________________________________________\n",
            "res2c_branch2c (Conv2D)         (None, None, None, 2 16384       res2c_branch2b_relu[0][0]        \n",
            "__________________________________________________________________________________________________\n",
            "bn2c_branch2c (BatchNormalizati (None, None, None, 2 1024        res2c_branch2c[0][0]             \n",
            "__________________________________________________________________________________________________\n",
            "res2c (Add)                     (None, None, None, 2 0           bn2c_branch2c[0][0]              \n",
            "                                                                 res2b_relu[0][0]                 \n",
            "__________________________________________________________________________________________________\n",
            "res2c_relu (Activation)         (None, None, None, 2 0           res2c[0][0]                      \n",
            "__________________________________________________________________________________________________\n",
            "res3a_branch2a (Conv2D)         (None, None, None, 1 32768       res2c_relu[0][0]                 \n",
            "__________________________________________________________________________________________________\n",
            "bn3a_branch2a (BatchNormalizati (None, None, None, 1 512         res3a_branch2a[0][0]             \n",
            "__________________________________________________________________________________________________\n",
            "res3a_branch2a_relu (Activation (None, None, None, 1 0           bn3a_branch2a[0][0]              \n",
            "__________________________________________________________________________________________________\n",
            "padding3a_branch2b (ZeroPadding (None, None, None, 1 0           res3a_branch2a_relu[0][0]        \n",
            "__________________________________________________________________________________________________\n",
            "res3a_branch2b (Conv2D)         (None, None, None, 1 147456      padding3a_branch2b[0][0]         \n",
            "__________________________________________________________________________________________________\n",
            "bn3a_branch2b (BatchNormalizati (None, None, None, 1 512         res3a_branch2b[0][0]             \n",
            "__________________________________________________________________________________________________\n",
            "res3a_branch2b_relu (Activation (None, None, None, 1 0           bn3a_branch2b[0][0]              \n",
            "__________________________________________________________________________________________________\n",
            "res3a_branch2c (Conv2D)         (None, None, None, 5 65536       res3a_branch2b_relu[0][0]        \n",
            "__________________________________________________________________________________________________\n",
            "res3a_branch1 (Conv2D)          (None, None, None, 5 131072      res2c_relu[0][0]                 \n",
            "__________________________________________________________________________________________________\n",
            "bn3a_branch2c (BatchNormalizati (None, None, None, 5 2048        res3a_branch2c[0][0]             \n",
            "__________________________________________________________________________________________________\n",
            "bn3a_branch1 (BatchNormalizatio (None, None, None, 5 2048        res3a_branch1[0][0]              \n",
            "__________________________________________________________________________________________________\n",
            "res3a (Add)                     (None, None, None, 5 0           bn3a_branch2c[0][0]              \n",
            "                                                                 bn3a_branch1[0][0]               \n",
            "__________________________________________________________________________________________________\n",
            "res3a_relu (Activation)         (None, None, None, 5 0           res3a[0][0]                      \n",
            "__________________________________________________________________________________________________\n",
            "res3b_branch2a (Conv2D)         (None, None, None, 1 65536       res3a_relu[0][0]                 \n",
            "__________________________________________________________________________________________________\n",
            "bn3b_branch2a (BatchNormalizati (None, None, None, 1 512         res3b_branch2a[0][0]             \n",
            "__________________________________________________________________________________________________\n",
            "res3b_branch2a_relu (Activation (None, None, None, 1 0           bn3b_branch2a[0][0]              \n",
            "__________________________________________________________________________________________________\n",
            "padding3b_branch2b (ZeroPadding (None, None, None, 1 0           res3b_branch2a_relu[0][0]        \n",
            "__________________________________________________________________________________________________\n",
            "res3b_branch2b (Conv2D)         (None, None, None, 1 147456      padding3b_branch2b[0][0]         \n",
            "__________________________________________________________________________________________________\n",
            "bn3b_branch2b (BatchNormalizati (None, None, None, 1 512         res3b_branch2b[0][0]             \n",
            "__________________________________________________________________________________________________\n",
            "res3b_branch2b_relu (Activation (None, None, None, 1 0           bn3b_branch2b[0][0]              \n",
            "__________________________________________________________________________________________________\n",
            "res3b_branch2c (Conv2D)         (None, None, None, 5 65536       res3b_branch2b_relu[0][0]        \n",
            "__________________________________________________________________________________________________\n",
            "bn3b_branch2c (BatchNormalizati (None, None, None, 5 2048        res3b_branch2c[0][0]             \n",
            "__________________________________________________________________________________________________\n",
            "res3b (Add)                     (None, None, None, 5 0           bn3b_branch2c[0][0]              \n",
            "                                                                 res3a_relu[0][0]                 \n",
            "__________________________________________________________________________________________________\n",
            "res3b_relu (Activation)         (None, None, None, 5 0           res3b[0][0]                      \n",
            "__________________________________________________________________________________________________\n",
            "res3c_branch2a (Conv2D)         (None, None, None, 1 65536       res3b_relu[0][0]                 \n",
            "__________________________________________________________________________________________________\n",
            "bn3c_branch2a (BatchNormalizati (None, None, None, 1 512         res3c_branch2a[0][0]             \n",
            "__________________________________________________________________________________________________\n",
            "res3c_branch2a_relu (Activation (None, None, None, 1 0           bn3c_branch2a[0][0]              \n",
            "__________________________________________________________________________________________________\n",
            "padding3c_branch2b (ZeroPadding (None, None, None, 1 0           res3c_branch2a_relu[0][0]        \n",
            "__________________________________________________________________________________________________\n",
            "res3c_branch2b (Conv2D)         (None, None, None, 1 147456      padding3c_branch2b[0][0]         \n",
            "__________________________________________________________________________________________________\n",
            "bn3c_branch2b (BatchNormalizati (None, None, None, 1 512         res3c_branch2b[0][0]             \n",
            "__________________________________________________________________________________________________\n",
            "res3c_branch2b_relu (Activation (None, None, None, 1 0           bn3c_branch2b[0][0]              \n",
            "__________________________________________________________________________________________________\n",
            "res3c_branch2c (Conv2D)         (None, None, None, 5 65536       res3c_branch2b_relu[0][0]        \n",
            "__________________________________________________________________________________________________\n",
            "bn3c_branch2c (BatchNormalizati (None, None, None, 5 2048        res3c_branch2c[0][0]             \n",
            "__________________________________________________________________________________________________\n",
            "res3c (Add)                     (None, None, None, 5 0           bn3c_branch2c[0][0]              \n",
            "                                                                 res3b_relu[0][0]                 \n",
            "__________________________________________________________________________________________________\n",
            "res3c_relu (Activation)         (None, None, None, 5 0           res3c[0][0]                      \n",
            "__________________________________________________________________________________________________\n",
            "res3d_branch2a (Conv2D)         (None, None, None, 1 65536       res3c_relu[0][0]                 \n",
            "__________________________________________________________________________________________________\n",
            "bn3d_branch2a (BatchNormalizati (None, None, None, 1 512         res3d_branch2a[0][0]             \n",
            "__________________________________________________________________________________________________\n",
            "res3d_branch2a_relu (Activation (None, None, None, 1 0           bn3d_branch2a[0][0]              \n",
            "__________________________________________________________________________________________________\n",
            "padding3d_branch2b (ZeroPadding (None, None, None, 1 0           res3d_branch2a_relu[0][0]        \n",
            "__________________________________________________________________________________________________\n",
            "res3d_branch2b (Conv2D)         (None, None, None, 1 147456      padding3d_branch2b[0][0]         \n",
            "__________________________________________________________________________________________________\n",
            "bn3d_branch2b (BatchNormalizati (None, None, None, 1 512         res3d_branch2b[0][0]             \n",
            "__________________________________________________________________________________________________\n",
            "res3d_branch2b_relu (Activation (None, None, None, 1 0           bn3d_branch2b[0][0]              \n",
            "__________________________________________________________________________________________________\n",
            "res3d_branch2c (Conv2D)         (None, None, None, 5 65536       res3d_branch2b_relu[0][0]        \n",
            "__________________________________________________________________________________________________\n",
            "bn3d_branch2c (BatchNormalizati (None, None, None, 5 2048        res3d_branch2c[0][0]             \n",
            "__________________________________________________________________________________________________\n",
            "res3d (Add)                     (None, None, None, 5 0           bn3d_branch2c[0][0]              \n",
            "                                                                 res3c_relu[0][0]                 \n",
            "__________________________________________________________________________________________________\n",
            "res3d_relu (Activation)         (None, None, None, 5 0           res3d[0][0]                      \n",
            "__________________________________________________________________________________________________\n",
            "res4a_branch2a (Conv2D)         (None, None, None, 2 131072      res3d_relu[0][0]                 \n",
            "__________________________________________________________________________________________________\n",
            "bn4a_branch2a (BatchNormalizati (None, None, None, 2 1024        res4a_branch2a[0][0]             \n",
            "__________________________________________________________________________________________________\n",
            "res4a_branch2a_relu (Activation (None, None, None, 2 0           bn4a_branch2a[0][0]              \n",
            "__________________________________________________________________________________________________\n",
            "padding4a_branch2b (ZeroPadding (None, None, None, 2 0           res4a_branch2a_relu[0][0]        \n",
            "__________________________________________________________________________________________________\n",
            "res4a_branch2b (Conv2D)         (None, None, None, 2 589824      padding4a_branch2b[0][0]         \n",
            "__________________________________________________________________________________________________\n",
            "bn4a_branch2b (BatchNormalizati (None, None, None, 2 1024        res4a_branch2b[0][0]             \n",
            "__________________________________________________________________________________________________\n",
            "res4a_branch2b_relu (Activation (None, None, None, 2 0           bn4a_branch2b[0][0]              \n",
            "__________________________________________________________________________________________________\n",
            "res4a_branch2c (Conv2D)         (None, None, None, 1 262144      res4a_branch2b_relu[0][0]        \n",
            "__________________________________________________________________________________________________\n",
            "res4a_branch1 (Conv2D)          (None, None, None, 1 524288      res3d_relu[0][0]                 \n",
            "__________________________________________________________________________________________________\n",
            "bn4a_branch2c (BatchNormalizati (None, None, None, 1 4096        res4a_branch2c[0][0]             \n",
            "__________________________________________________________________________________________________\n",
            "bn4a_branch1 (BatchNormalizatio (None, None, None, 1 4096        res4a_branch1[0][0]              \n",
            "__________________________________________________________________________________________________\n",
            "res4a (Add)                     (None, None, None, 1 0           bn4a_branch2c[0][0]              \n",
            "                                                                 bn4a_branch1[0][0]               \n",
            "__________________________________________________________________________________________________\n",
            "res4a_relu (Activation)         (None, None, None, 1 0           res4a[0][0]                      \n",
            "__________________________________________________________________________________________________\n",
            "res4b_branch2a (Conv2D)         (None, None, None, 2 262144      res4a_relu[0][0]                 \n",
            "__________________________________________________________________________________________________\n",
            "bn4b_branch2a (BatchNormalizati (None, None, None, 2 1024        res4b_branch2a[0][0]             \n",
            "__________________________________________________________________________________________________\n",
            "res4b_branch2a_relu (Activation (None, None, None, 2 0           bn4b_branch2a[0][0]              \n",
            "__________________________________________________________________________________________________\n",
            "padding4b_branch2b (ZeroPadding (None, None, None, 2 0           res4b_branch2a_relu[0][0]        \n",
            "__________________________________________________________________________________________________\n",
            "res4b_branch2b (Conv2D)         (None, None, None, 2 589824      padding4b_branch2b[0][0]         \n",
            "__________________________________________________________________________________________________\n",
            "bn4b_branch2b (BatchNormalizati (None, None, None, 2 1024        res4b_branch2b[0][0]             \n",
            "__________________________________________________________________________________________________\n",
            "res4b_branch2b_relu (Activation (None, None, None, 2 0           bn4b_branch2b[0][0]              \n",
            "__________________________________________________________________________________________________\n",
            "res4b_branch2c (Conv2D)         (None, None, None, 1 262144      res4b_branch2b_relu[0][0]        \n",
            "__________________________________________________________________________________________________\n",
            "bn4b_branch2c (BatchNormalizati (None, None, None, 1 4096        res4b_branch2c[0][0]             \n",
            "__________________________________________________________________________________________________\n",
            "res4b (Add)                     (None, None, None, 1 0           bn4b_branch2c[0][0]              \n",
            "                                                                 res4a_relu[0][0]                 \n",
            "__________________________________________________________________________________________________\n",
            "res4b_relu (Activation)         (None, None, None, 1 0           res4b[0][0]                      \n",
            "__________________________________________________________________________________________________\n",
            "res4c_branch2a (Conv2D)         (None, None, None, 2 262144      res4b_relu[0][0]                 \n",
            "__________________________________________________________________________________________________\n",
            "bn4c_branch2a (BatchNormalizati (None, None, None, 2 1024        res4c_branch2a[0][0]             \n",
            "__________________________________________________________________________________________________\n",
            "res4c_branch2a_relu (Activation (None, None, None, 2 0           bn4c_branch2a[0][0]              \n",
            "__________________________________________________________________________________________________\n",
            "padding4c_branch2b (ZeroPadding (None, None, None, 2 0           res4c_branch2a_relu[0][0]        \n",
            "__________________________________________________________________________________________________\n",
            "res4c_branch2b (Conv2D)         (None, None, None, 2 589824      padding4c_branch2b[0][0]         \n",
            "__________________________________________________________________________________________________\n",
            "bn4c_branch2b (BatchNormalizati (None, None, None, 2 1024        res4c_branch2b[0][0]             \n",
            "__________________________________________________________________________________________________\n",
            "res4c_branch2b_relu (Activation (None, None, None, 2 0           bn4c_branch2b[0][0]              \n",
            "__________________________________________________________________________________________________\n",
            "res4c_branch2c (Conv2D)         (None, None, None, 1 262144      res4c_branch2b_relu[0][0]        \n",
            "__________________________________________________________________________________________________\n",
            "bn4c_branch2c (BatchNormalizati (None, None, None, 1 4096        res4c_branch2c[0][0]             \n",
            "__________________________________________________________________________________________________\n",
            "res4c (Add)                     (None, None, None, 1 0           bn4c_branch2c[0][0]              \n",
            "                                                                 res4b_relu[0][0]                 \n",
            "__________________________________________________________________________________________________\n",
            "res4c_relu (Activation)         (None, None, None, 1 0           res4c[0][0]                      \n",
            "__________________________________________________________________________________________________\n",
            "res4d_branch2a (Conv2D)         (None, None, None, 2 262144      res4c_relu[0][0]                 \n",
            "__________________________________________________________________________________________________\n",
            "bn4d_branch2a (BatchNormalizati (None, None, None, 2 1024        res4d_branch2a[0][0]             \n",
            "__________________________________________________________________________________________________\n",
            "res4d_branch2a_relu (Activation (None, None, None, 2 0           bn4d_branch2a[0][0]              \n",
            "__________________________________________________________________________________________________\n",
            "padding4d_branch2b (ZeroPadding (None, None, None, 2 0           res4d_branch2a_relu[0][0]        \n",
            "__________________________________________________________________________________________________\n",
            "res4d_branch2b (Conv2D)         (None, None, None, 2 589824      padding4d_branch2b[0][0]         \n",
            "__________________________________________________________________________________________________\n",
            "bn4d_branch2b (BatchNormalizati (None, None, None, 2 1024        res4d_branch2b[0][0]             \n",
            "__________________________________________________________________________________________________\n",
            "res4d_branch2b_relu (Activation (None, None, None, 2 0           bn4d_branch2b[0][0]              \n",
            "__________________________________________________________________________________________________\n",
            "res4d_branch2c (Conv2D)         (None, None, None, 1 262144      res4d_branch2b_relu[0][0]        \n",
            "__________________________________________________________________________________________________\n",
            "bn4d_branch2c (BatchNormalizati (None, None, None, 1 4096        res4d_branch2c[0][0]             \n",
            "__________________________________________________________________________________________________\n",
            "res4d (Add)                     (None, None, None, 1 0           bn4d_branch2c[0][0]              \n",
            "                                                                 res4c_relu[0][0]                 \n",
            "__________________________________________________________________________________________________\n",
            "res4d_relu (Activation)         (None, None, None, 1 0           res4d[0][0]                      \n",
            "__________________________________________________________________________________________________\n",
            "res4e_branch2a (Conv2D)         (None, None, None, 2 262144      res4d_relu[0][0]                 \n",
            "__________________________________________________________________________________________________\n",
            "bn4e_branch2a (BatchNormalizati (None, None, None, 2 1024        res4e_branch2a[0][0]             \n",
            "__________________________________________________________________________________________________\n",
            "res4e_branch2a_relu (Activation (None, None, None, 2 0           bn4e_branch2a[0][0]              \n",
            "__________________________________________________________________________________________________\n",
            "padding4e_branch2b (ZeroPadding (None, None, None, 2 0           res4e_branch2a_relu[0][0]        \n",
            "__________________________________________________________________________________________________\n",
            "res4e_branch2b (Conv2D)         (None, None, None, 2 589824      padding4e_branch2b[0][0]         \n",
            "__________________________________________________________________________________________________\n",
            "bn4e_branch2b (BatchNormalizati (None, None, None, 2 1024        res4e_branch2b[0][0]             \n",
            "__________________________________________________________________________________________________\n",
            "res4e_branch2b_relu (Activation (None, None, None, 2 0           bn4e_branch2b[0][0]              \n",
            "__________________________________________________________________________________________________\n",
            "res4e_branch2c (Conv2D)         (None, None, None, 1 262144      res4e_branch2b_relu[0][0]        \n",
            "__________________________________________________________________________________________________\n",
            "bn4e_branch2c (BatchNormalizati (None, None, None, 1 4096        res4e_branch2c[0][0]             \n",
            "__________________________________________________________________________________________________\n",
            "res4e (Add)                     (None, None, None, 1 0           bn4e_branch2c[0][0]              \n",
            "                                                                 res4d_relu[0][0]                 \n",
            "__________________________________________________________________________________________________\n",
            "res4e_relu (Activation)         (None, None, None, 1 0           res4e[0][0]                      \n",
            "__________________________________________________________________________________________________\n",
            "res4f_branch2a (Conv2D)         (None, None, None, 2 262144      res4e_relu[0][0]                 \n",
            "__________________________________________________________________________________________________\n",
            "bn4f_branch2a (BatchNormalizati (None, None, None, 2 1024        res4f_branch2a[0][0]             \n",
            "__________________________________________________________________________________________________\n",
            "res4f_branch2a_relu (Activation (None, None, None, 2 0           bn4f_branch2a[0][0]              \n",
            "__________________________________________________________________________________________________\n",
            "padding4f_branch2b (ZeroPadding (None, None, None, 2 0           res4f_branch2a_relu[0][0]        \n",
            "__________________________________________________________________________________________________\n",
            "res4f_branch2b (Conv2D)         (None, None, None, 2 589824      padding4f_branch2b[0][0]         \n",
            "__________________________________________________________________________________________________\n",
            "bn4f_branch2b (BatchNormalizati (None, None, None, 2 1024        res4f_branch2b[0][0]             \n",
            "__________________________________________________________________________________________________\n",
            "res4f_branch2b_relu (Activation (None, None, None, 2 0           bn4f_branch2b[0][0]              \n",
            "__________________________________________________________________________________________________\n",
            "res4f_branch2c (Conv2D)         (None, None, None, 1 262144      res4f_branch2b_relu[0][0]        \n",
            "__________________________________________________________________________________________________\n",
            "bn4f_branch2c (BatchNormalizati (None, None, None, 1 4096        res4f_branch2c[0][0]             \n",
            "__________________________________________________________________________________________________\n",
            "res4f (Add)                     (None, None, None, 1 0           bn4f_branch2c[0][0]              \n",
            "                                                                 res4e_relu[0][0]                 \n",
            "__________________________________________________________________________________________________\n",
            "res4f_relu (Activation)         (None, None, None, 1 0           res4f[0][0]                      \n",
            "__________________________________________________________________________________________________\n",
            "res5a_branch2a (Conv2D)         (None, None, None, 5 524288      res4f_relu[0][0]                 \n",
            "__________________________________________________________________________________________________\n",
            "bn5a_branch2a (BatchNormalizati (None, None, None, 5 2048        res5a_branch2a[0][0]             \n",
            "__________________________________________________________________________________________________\n",
            "res5a_branch2a_relu (Activation (None, None, None, 5 0           bn5a_branch2a[0][0]              \n",
            "__________________________________________________________________________________________________\n",
            "padding5a_branch2b (ZeroPadding (None, None, None, 5 0           res5a_branch2a_relu[0][0]        \n",
            "__________________________________________________________________________________________________\n",
            "res5a_branch2b (Conv2D)         (None, None, None, 5 2359296     padding5a_branch2b[0][0]         \n",
            "__________________________________________________________________________________________________\n",
            "bn5a_branch2b (BatchNormalizati (None, None, None, 5 2048        res5a_branch2b[0][0]             \n",
            "__________________________________________________________________________________________________\n",
            "res5a_branch2b_relu (Activation (None, None, None, 5 0           bn5a_branch2b[0][0]              \n",
            "__________________________________________________________________________________________________\n",
            "res5a_branch2c (Conv2D)         (None, None, None, 2 1048576     res5a_branch2b_relu[0][0]        \n",
            "__________________________________________________________________________________________________\n",
            "res5a_branch1 (Conv2D)          (None, None, None, 2 2097152     res4f_relu[0][0]                 \n",
            "__________________________________________________________________________________________________\n",
            "bn5a_branch2c (BatchNormalizati (None, None, None, 2 8192        res5a_branch2c[0][0]             \n",
            "__________________________________________________________________________________________________\n",
            "bn5a_branch1 (BatchNormalizatio (None, None, None, 2 8192        res5a_branch1[0][0]              \n",
            "__________________________________________________________________________________________________\n",
            "res5a (Add)                     (None, None, None, 2 0           bn5a_branch2c[0][0]              \n",
            "                                                                 bn5a_branch1[0][0]               \n",
            "__________________________________________________________________________________________________\n",
            "res5a_relu (Activation)         (None, None, None, 2 0           res5a[0][0]                      \n",
            "__________________________________________________________________________________________________\n",
            "res5b_branch2a (Conv2D)         (None, None, None, 5 1048576     res5a_relu[0][0]                 \n",
            "__________________________________________________________________________________________________\n",
            "bn5b_branch2a (BatchNormalizati (None, None, None, 5 2048        res5b_branch2a[0][0]             \n",
            "__________________________________________________________________________________________________\n",
            "res5b_branch2a_relu (Activation (None, None, None, 5 0           bn5b_branch2a[0][0]              \n",
            "__________________________________________________________________________________________________\n",
            "padding5b_branch2b (ZeroPadding (None, None, None, 5 0           res5b_branch2a_relu[0][0]        \n",
            "__________________________________________________________________________________________________\n",
            "res5b_branch2b (Conv2D)         (None, None, None, 5 2359296     padding5b_branch2b[0][0]         \n",
            "__________________________________________________________________________________________________\n",
            "bn5b_branch2b (BatchNormalizati (None, None, None, 5 2048        res5b_branch2b[0][0]             \n",
            "__________________________________________________________________________________________________\n",
            "res5b_branch2b_relu (Activation (None, None, None, 5 0           bn5b_branch2b[0][0]              \n",
            "__________________________________________________________________________________________________\n",
            "res5b_branch2c (Conv2D)         (None, None, None, 2 1048576     res5b_branch2b_relu[0][0]        \n",
            "__________________________________________________________________________________________________\n",
            "bn5b_branch2c (BatchNormalizati (None, None, None, 2 8192        res5b_branch2c[0][0]             \n",
            "__________________________________________________________________________________________________\n",
            "res5b (Add)                     (None, None, None, 2 0           bn5b_branch2c[0][0]              \n",
            "                                                                 res5a_relu[0][0]                 \n",
            "__________________________________________________________________________________________________\n",
            "res5b_relu (Activation)         (None, None, None, 2 0           res5b[0][0]                      \n",
            "__________________________________________________________________________________________________\n",
            "res5c_branch2a (Conv2D)         (None, None, None, 5 1048576     res5b_relu[0][0]                 \n",
            "__________________________________________________________________________________________________\n",
            "bn5c_branch2a (BatchNormalizati (None, None, None, 5 2048        res5c_branch2a[0][0]             \n",
            "__________________________________________________________________________________________________\n",
            "res5c_branch2a_relu (Activation (None, None, None, 5 0           bn5c_branch2a[0][0]              \n",
            "__________________________________________________________________________________________________\n",
            "padding5c_branch2b (ZeroPadding (None, None, None, 5 0           res5c_branch2a_relu[0][0]        \n",
            "__________________________________________________________________________________________________\n",
            "res5c_branch2b (Conv2D)         (None, None, None, 5 2359296     padding5c_branch2b[0][0]         \n",
            "__________________________________________________________________________________________________\n",
            "bn5c_branch2b (BatchNormalizati (None, None, None, 5 2048        res5c_branch2b[0][0]             \n",
            "__________________________________________________________________________________________________\n",
            "res5c_branch2b_relu (Activation (None, None, None, 5 0           bn5c_branch2b[0][0]              \n",
            "__________________________________________________________________________________________________\n",
            "res5c_branch2c (Conv2D)         (None, None, None, 2 1048576     res5c_branch2b_relu[0][0]        \n",
            "__________________________________________________________________________________________________\n",
            "bn5c_branch2c (BatchNormalizati (None, None, None, 2 8192        res5c_branch2c[0][0]             \n",
            "__________________________________________________________________________________________________\n",
            "res5c (Add)                     (None, None, None, 2 0           bn5c_branch2c[0][0]              \n",
            "                                                                 res5b_relu[0][0]                 \n",
            "__________________________________________________________________________________________________\n",
            "res5c_relu (Activation)         (None, None, None, 2 0           res5c[0][0]                      \n",
            "__________________________________________________________________________________________________\n",
            "C5_reduced (Conv2D)             (None, None, None, 2 524544      res5c_relu[0][0]                 \n",
            "__________________________________________________________________________________________________\n",
            "P5_upsampled (UpsampleLike)     (None, None, None, 2 0           C5_reduced[0][0]                 \n",
            "                                                                 res4f_relu[0][0]                 \n",
            "__________________________________________________________________________________________________\n",
            "C4_reduced (Conv2D)             (None, None, None, 2 262400      res4f_relu[0][0]                 \n",
            "__________________________________________________________________________________________________\n",
            "P4_merged (Add)                 (None, None, None, 2 0           P5_upsampled[0][0]               \n",
            "                                                                 C4_reduced[0][0]                 \n",
            "__________________________________________________________________________________________________\n",
            "P4_upsampled (UpsampleLike)     (None, None, None, 2 0           P4_merged[0][0]                  \n",
            "                                                                 res3d_relu[0][0]                 \n",
            "__________________________________________________________________________________________________\n",
            "C3_reduced (Conv2D)             (None, None, None, 2 131328      res3d_relu[0][0]                 \n",
            "__________________________________________________________________________________________________\n",
            "P6 (Conv2D)                     (None, None, None, 2 4718848     res5c_relu[0][0]                 \n",
            "__________________________________________________________________________________________________\n",
            "P3_merged (Add)                 (None, None, None, 2 0           P4_upsampled[0][0]               \n",
            "                                                                 C3_reduced[0][0]                 \n",
            "__________________________________________________________________________________________________\n",
            "C6_relu (Activation)            (None, None, None, 2 0           P6[0][0]                         \n",
            "__________________________________________________________________________________________________\n",
            "P3 (Conv2D)                     (None, None, None, 2 590080      P3_merged[0][0]                  \n",
            "__________________________________________________________________________________________________\n",
            "P4 (Conv2D)                     (None, None, None, 2 590080      P4_merged[0][0]                  \n",
            "__________________________________________________________________________________________________\n",
            "P5 (Conv2D)                     (None, None, None, 2 590080      C5_reduced[0][0]                 \n",
            "__________________________________________________________________________________________________\n",
            "P7 (Conv2D)                     (None, None, None, 2 590080      C6_relu[0][0]                    \n",
            "__________________________________________________________________________________________________\n",
            "regression_submodel (Model)     (None, None, 4)      2443300     P3[0][0]                         \n",
            "                                                                 P4[0][0]                         \n",
            "                                                                 P5[0][0]                         \n",
            "                                                                 P6[0][0]                         \n",
            "                                                                 P7[0][0]                         \n",
            "__________________________________________________________________________________________________\n",
            "classification_submodel (Model) (None, None, 10)     2567770     P3[0][0]                         \n",
            "                                                                 P4[0][0]                         \n",
            "                                                                 P5[0][0]                         \n",
            "                                                                 P6[0][0]                         \n",
            "                                                                 P7[0][0]                         \n",
            "__________________________________________________________________________________________________\n",
            "regression (Concatenate)        (None, None, 4)      0           regression_submodel[1][0]        \n",
            "                                                                 regression_submodel[2][0]        \n",
            "                                                                 regression_submodel[3][0]        \n",
            "                                                                 regression_submodel[4][0]        \n",
            "                                                                 regression_submodel[5][0]        \n",
            "__________________________________________________________________________________________________\n",
            "classification (Concatenate)    (None, None, 10)     0           classification_submodel[1][0]    \n",
            "                                                                 classification_submodel[2][0]    \n",
            "                                                                 classification_submodel[3][0]    \n",
            "                                                                 classification_submodel[4][0]    \n",
            "                                                                 classification_submodel[5][0]    \n",
            "==================================================================================================\n",
            "Total params: 36,569,662\n",
            "Trainable params: 36,463,422\n",
            "Non-trainable params: 106,240\n",
            "__________________________________________________________________________________________________\n",
            "None\n",
            "Epoch 1/40\n",
            "100/100 [==============================] - 31s 308ms/step - loss: 3.9439 - regression_loss: 2.7964 - classification_loss: 1.1475\n"
          ],
          "name": "stdout"
        },
        {
          "output_type": "stream",
          "text": [
            "Running network: 100% (45 of 45) |#######| Elapsed Time: 0:00:06 Time:  0:00:06\n",
            "Parsing annotations: 100% (45 of 45) |###| Elapsed Time: 0:00:00 Time:  0:00:00\n"
          ],
          "name": "stderr"
        },
        {
          "output_type": "stream",
          "text": [
            "0 instances of class 0 with average precision: 0.0000\n",
            "0 instances of class 10 with average precision: 0.0000\n",
            "197 instances of class 2 with average precision: 0.0000\n",
            "0 instances of class 3 with average precision: 0.0000\n",
            "0 instances of class 4 with average precision: 0.0000\n",
            "2 instances of class 5 with average precision: 0.0000\n",
            "0 instances of class 6 with average precision: 0.0000\n",
            "2 instances of class 7 with average precision: 0.0000\n",
            "2 instances of class 8 with average precision: 0.0000\n",
            "0 instances of class 9 with average precision: 0.0000\n",
            "mAP: 0.0000\n",
            "\n",
            "Epoch 00001: saving model to ./snapshots/resnet50_csv_01.h5\n",
            "Epoch 2/40\n",
            "100/100 [==============================] - 22s 224ms/step - loss: 3.4889 - regression_loss: 2.3932 - classification_loss: 1.0958\n"
          ],
          "name": "stdout"
        },
        {
          "output_type": "stream",
          "text": [
            "Running network: 100% (45 of 45) |#######| Elapsed Time: 0:00:03 Time:  0:00:03\n",
            "Parsing annotations: 100% (45 of 45) |###| Elapsed Time: 0:00:00 Time:  0:00:00\n"
          ],
          "name": "stderr"
        },
        {
          "output_type": "stream",
          "text": [
            "0 instances of class 0 with average precision: 0.0000\n",
            "0 instances of class 10 with average precision: 0.0000\n",
            "197 instances of class 2 with average precision: 0.0000\n",
            "0 instances of class 3 with average precision: 0.0000\n",
            "0 instances of class 4 with average precision: 0.0000\n",
            "2 instances of class 5 with average precision: 0.1227\n",
            "0 instances of class 6 with average precision: 0.0000\n",
            "2 instances of class 7 with average precision: 1.0000\n",
            "2 instances of class 8 with average precision: 0.0089\n",
            "0 instances of class 9 with average precision: 0.0000\n",
            "mAP: 0.2829\n",
            "\n",
            "Epoch 00002: saving model to ./snapshots/resnet50_csv_02.h5\n",
            "Epoch 3/40\n",
            "100/100 [==============================] - 22s 224ms/step - loss: 2.6091 - regression_loss: 1.8207 - classification_loss: 0.7883\n"
          ],
          "name": "stdout"
        },
        {
          "output_type": "stream",
          "text": [
            "Running network: 100% (45 of 45) |#######| Elapsed Time: 0:00:03 Time:  0:00:03\n",
            "Parsing annotations: 100% (45 of 45) |###| Elapsed Time: 0:00:00 Time:  0:00:00\n"
          ],
          "name": "stderr"
        },
        {
          "output_type": "stream",
          "text": [
            "0 instances of class 0 with average precision: 0.0000\n",
            "0 instances of class 10 with average precision: 0.0000\n",
            "197 instances of class 2 with average precision: 0.0155\n",
            "0 instances of class 3 with average precision: 0.0000\n",
            "0 instances of class 4 with average precision: 0.0000\n",
            "2 instances of class 5 with average precision: 0.1364\n",
            "0 instances of class 6 with average precision: 0.0000\n",
            "2 instances of class 7 with average precision: 1.0000\n",
            "2 instances of class 8 with average precision: 0.0097\n",
            "0 instances of class 9 with average precision: 0.0000\n",
            "mAP: 0.2904\n",
            "\n",
            "Epoch 00003: saving model to ./snapshots/resnet50_csv_03.h5\n",
            "Epoch 4/40\n",
            "100/100 [==============================] - 22s 224ms/step - loss: 2.2344 - regression_loss: 1.6179 - classification_loss: 0.6165\n"
          ],
          "name": "stdout"
        },
        {
          "output_type": "stream",
          "text": [
            "Running network: 100% (45 of 45) |#######| Elapsed Time: 0:00:03 Time:  0:00:03\n",
            "Parsing annotations: 100% (45 of 45) |###| Elapsed Time: 0:00:00 Time:  0:00:00\n"
          ],
          "name": "stderr"
        },
        {
          "output_type": "stream",
          "text": [
            "0 instances of class 0 with average precision: 0.0000\n",
            "0 instances of class 10 with average precision: 0.0000\n",
            "197 instances of class 2 with average precision: 0.0600\n",
            "0 instances of class 3 with average precision: 0.0000\n",
            "0 instances of class 4 with average precision: 0.0000\n",
            "2 instances of class 5 with average precision: 0.1366\n",
            "0 instances of class 6 with average precision: 0.0000\n",
            "2 instances of class 7 with average precision: 0.0476\n",
            "2 instances of class 8 with average precision: 0.0136\n",
            "0 instances of class 9 with average precision: 0.0000\n",
            "mAP: 0.0645\n",
            "\n",
            "Epoch 00004: saving model to ./snapshots/resnet50_csv_04.h5\n",
            "Epoch 5/40\n",
            "100/100 [==============================] - 22s 223ms/step - loss: 1.8848 - regression_loss: 1.3311 - classification_loss: 0.5536\n"
          ],
          "name": "stdout"
        },
        {
          "output_type": "stream",
          "text": [
            "Running network: 100% (45 of 45) |#######| Elapsed Time: 0:00:03 Time:  0:00:03\n",
            "Parsing annotations: 100% (45 of 45) |###| Elapsed Time: 0:00:00 Time:  0:00:00\n"
          ],
          "name": "stderr"
        },
        {
          "output_type": "stream",
          "text": [
            "0 instances of class 0 with average precision: 0.0000\n",
            "0 instances of class 10 with average precision: 0.0000\n",
            "197 instances of class 2 with average precision: 0.2742\n",
            "0 instances of class 3 with average precision: 0.0000\n",
            "0 instances of class 4 with average precision: 0.0000\n",
            "2 instances of class 5 with average precision: 0.1852\n",
            "0 instances of class 6 with average precision: 0.0000\n",
            "2 instances of class 7 with average precision: 0.1818\n",
            "2 instances of class 8 with average precision: 0.0134\n",
            "0 instances of class 9 with average precision: 0.0000\n",
            "mAP: 0.1636\n",
            "\n",
            "Epoch 00005: saving model to ./snapshots/resnet50_csv_05.h5\n",
            "Epoch 6/40\n",
            "100/100 [==============================] - 22s 224ms/step - loss: 1.6266 - regression_loss: 1.1415 - classification_loss: 0.4852\n"
          ],
          "name": "stdout"
        },
        {
          "output_type": "stream",
          "text": [
            "Running network: 100% (45 of 45) |#######| Elapsed Time: 0:00:03 Time:  0:00:03\n",
            "Parsing annotations: 100% (45 of 45) |###| Elapsed Time: 0:00:00 Time:  0:00:00\n"
          ],
          "name": "stderr"
        },
        {
          "output_type": "stream",
          "text": [
            "0 instances of class 0 with average precision: 0.0000\n",
            "0 instances of class 10 with average precision: 0.0000\n",
            "197 instances of class 2 with average precision: 0.2792\n",
            "0 instances of class 3 with average precision: 0.0000\n",
            "0 instances of class 4 with average precision: 0.0000\n",
            "2 instances of class 5 with average precision: 0.0747\n",
            "0 instances of class 6 with average precision: 0.0000\n",
            "2 instances of class 7 with average precision: 0.0312\n",
            "2 instances of class 8 with average precision: 0.0108\n",
            "0 instances of class 9 with average precision: 0.0000\n",
            "mAP: 0.0990\n",
            "\n",
            "Epoch 00006: saving model to ./snapshots/resnet50_csv_06.h5\n",
            "Epoch 7/40\n",
            "100/100 [==============================] - 22s 224ms/step - loss: 1.5741 - regression_loss: 1.1113 - classification_loss: 0.4628\n"
          ],
          "name": "stdout"
        },
        {
          "output_type": "stream",
          "text": [
            "Running network: 100% (45 of 45) |#######| Elapsed Time: 0:00:03 Time:  0:00:03\n",
            "Parsing annotations: 100% (45 of 45) |###| Elapsed Time: 0:00:00 Time:  0:00:00\n"
          ],
          "name": "stderr"
        },
        {
          "output_type": "stream",
          "text": [
            "0 instances of class 0 with average precision: 0.0000\n",
            "0 instances of class 10 with average precision: 0.0000\n",
            "197 instances of class 2 with average precision: 0.3725\n",
            "0 instances of class 3 with average precision: 0.0000\n",
            "0 instances of class 4 with average precision: 0.0000\n",
            "2 instances of class 5 with average precision: 0.1875\n",
            "0 instances of class 6 with average precision: 0.0000\n",
            "2 instances of class 7 with average precision: 0.4000\n",
            "2 instances of class 8 with average precision: 0.0156\n",
            "0 instances of class 9 with average precision: 0.0000\n",
            "mAP: 0.2439\n",
            "\n",
            "Epoch 00007: saving model to ./snapshots/resnet50_csv_07.h5\n",
            "Epoch 8/40\n",
            "100/100 [==============================] - 22s 224ms/step - loss: 1.5319 - regression_loss: 1.0785 - classification_loss: 0.4534\n"
          ],
          "name": "stdout"
        },
        {
          "output_type": "stream",
          "text": [
            "Running network: 100% (45 of 45) |#######| Elapsed Time: 0:00:03 Time:  0:00:03\n",
            "Parsing annotations: 100% (45 of 45) |###| Elapsed Time: 0:00:00 Time:  0:00:00\n"
          ],
          "name": "stderr"
        },
        {
          "output_type": "stream",
          "text": [
            "0 instances of class 0 with average precision: 0.0000\n",
            "0 instances of class 10 with average precision: 0.0000\n",
            "197 instances of class 2 with average precision: 0.4548\n",
            "0 instances of class 3 with average precision: 0.0000\n",
            "0 instances of class 4 with average precision: 0.0000\n",
            "2 instances of class 5 with average precision: 0.1402\n",
            "0 instances of class 6 with average precision: 0.0000\n",
            "2 instances of class 7 with average precision: 1.0000\n",
            "2 instances of class 8 with average precision: 0.0174\n",
            "0 instances of class 9 with average precision: 0.0000\n",
            "mAP: 0.4031\n",
            "\n",
            "Epoch 00008: saving model to ./snapshots/resnet50_csv_08.h5\n",
            "Epoch 9/40\n",
            "100/100 [==============================] - 22s 224ms/step - loss: 1.4230 - regression_loss: 1.0199 - classification_loss: 0.4031\n"
          ],
          "name": "stdout"
        },
        {
          "output_type": "stream",
          "text": [
            "Running network: 100% (45 of 45) |#######| Elapsed Time: 0:00:03 Time:  0:00:03\n",
            "Parsing annotations: 100% (45 of 45) |###| Elapsed Time: 0:00:00 Time:  0:00:00\n"
          ],
          "name": "stderr"
        },
        {
          "output_type": "stream",
          "text": [
            "0 instances of class 0 with average precision: 0.0000\n",
            "0 instances of class 10 with average precision: 0.0000\n",
            "197 instances of class 2 with average precision: 0.4517\n",
            "0 instances of class 3 with average precision: 0.0000\n",
            "0 instances of class 4 with average precision: 0.0000\n",
            "2 instances of class 5 with average precision: 0.0295\n",
            "0 instances of class 6 with average precision: 0.0000\n",
            "2 instances of class 7 with average precision: 0.4500\n",
            "2 instances of class 8 with average precision: 0.0136\n",
            "0 instances of class 9 with average precision: 0.0000\n",
            "mAP: 0.2362\n",
            "\n",
            "Epoch 00009: saving model to ./snapshots/resnet50_csv_09.h5\n",
            "Epoch 10/40\n",
            "100/100 [==============================] - 23s 229ms/step - loss: 1.3345 - regression_loss: 0.9421 - classification_loss: 0.3924\n"
          ],
          "name": "stdout"
        },
        {
          "output_type": "stream",
          "text": [
            "Running network: 100% (45 of 45) |#######| Elapsed Time: 0:00:03 Time:  0:00:03\n",
            "Parsing annotations: 100% (45 of 45) |###| Elapsed Time: 0:00:00 Time:  0:00:00\n"
          ],
          "name": "stderr"
        },
        {
          "output_type": "stream",
          "text": [
            "0 instances of class 0 with average precision: 0.0000\n",
            "0 instances of class 10 with average precision: 0.0000\n",
            "197 instances of class 2 with average precision: 0.6198\n",
            "0 instances of class 3 with average precision: 0.0000\n",
            "0 instances of class 4 with average precision: 0.0000\n",
            "2 instances of class 5 with average precision: 0.0241\n",
            "0 instances of class 6 with average precision: 0.0000\n",
            "2 instances of class 7 with average precision: 1.0000\n",
            "2 instances of class 8 with average precision: 0.0156\n",
            "0 instances of class 9 with average precision: 0.0000\n",
            "mAP: 0.4149\n",
            "\n",
            "Epoch 00010: saving model to ./snapshots/resnet50_csv_10.h5\n",
            "Epoch 11/40\n",
            "100/100 [==============================] - 23s 225ms/step - loss: 1.3267 - regression_loss: 0.9388 - classification_loss: 0.3879\n"
          ],
          "name": "stdout"
        },
        {
          "output_type": "stream",
          "text": [
            "Running network: 100% (45 of 45) |#######| Elapsed Time: 0:00:03 Time:  0:00:03\n",
            "Parsing annotations: 100% (45 of 45) |###| Elapsed Time: 0:00:00 Time:  0:00:00\n"
          ],
          "name": "stderr"
        },
        {
          "output_type": "stream",
          "text": [
            "0 instances of class 0 with average precision: 0.0000\n",
            "0 instances of class 10 with average precision: 0.0000\n",
            "197 instances of class 2 with average precision: 0.6091\n",
            "0 instances of class 3 with average precision: 0.0000\n",
            "0 instances of class 4 with average precision: 0.0000\n",
            "2 instances of class 5 with average precision: 0.2024\n",
            "0 instances of class 6 with average precision: 0.0000\n",
            "2 instances of class 7 with average precision: 1.0000\n",
            "2 instances of class 8 with average precision: 0.0137\n",
            "0 instances of class 9 with average precision: 0.0000\n",
            "mAP: 0.4563\n",
            "\n",
            "Epoch 00011: saving model to ./snapshots/resnet50_csv_11.h5\n",
            "Epoch 12/40\n",
            "100/100 [==============================] - 23s 225ms/step - loss: 1.2023 - regression_loss: 0.8519 - classification_loss: 0.3504\n"
          ],
          "name": "stdout"
        },
        {
          "output_type": "stream",
          "text": [
            "Running network: 100% (45 of 45) |#######| Elapsed Time: 0:00:03 Time:  0:00:03\n",
            "Parsing annotations: 100% (45 of 45) |###| Elapsed Time: 0:00:00 Time:  0:00:00\n"
          ],
          "name": "stderr"
        },
        {
          "output_type": "stream",
          "text": [
            "0 instances of class 0 with average precision: 0.0000\n",
            "0 instances of class 10 with average precision: 0.0000\n",
            "197 instances of class 2 with average precision: 0.6031\n",
            "0 instances of class 3 with average precision: 0.0000\n",
            "0 instances of class 4 with average precision: 0.0000\n",
            "2 instances of class 5 with average precision: 0.0620\n",
            "0 instances of class 6 with average precision: 0.0000\n",
            "2 instances of class 7 with average precision: 1.0000\n",
            "2 instances of class 8 with average precision: 0.0211\n",
            "0 instances of class 9 with average precision: 0.0000\n",
            "mAP: 0.4215\n",
            "\n",
            "Epoch 00012: saving model to ./snapshots/resnet50_csv_12.h5\n",
            "Epoch 13/40\n",
            "100/100 [==============================] - 23s 225ms/step - loss: 1.1655 - regression_loss: 0.8212 - classification_loss: 0.3444\n"
          ],
          "name": "stdout"
        },
        {
          "output_type": "stream",
          "text": [
            "Running network: 100% (45 of 45) |#######| Elapsed Time: 0:00:03 Time:  0:00:03\n",
            "Parsing annotations: 100% (45 of 45) |###| Elapsed Time: 0:00:00 Time:  0:00:00\n"
          ],
          "name": "stderr"
        },
        {
          "output_type": "stream",
          "text": [
            "0 instances of class 0 with average precision: 0.0000\n",
            "0 instances of class 10 with average precision: 0.0000\n",
            "197 instances of class 2 with average precision: 0.3351\n",
            "0 instances of class 3 with average precision: 0.0000\n",
            "0 instances of class 4 with average precision: 0.0000\n",
            "2 instances of class 5 with average precision: 0.3929\n",
            "0 instances of class 6 with average precision: 0.0000\n",
            "2 instances of class 7 with average precision: 1.0000\n",
            "2 instances of class 8 with average precision: 0.0211\n",
            "0 instances of class 9 with average precision: 0.0000\n",
            "mAP: 0.4372\n",
            "\n",
            "Epoch 00013: saving model to ./snapshots/resnet50_csv_13.h5\n",
            "Epoch 14/40\n",
            "100/100 [==============================] - 22s 223ms/step - loss: 1.1855 - regression_loss: 0.8608 - classification_loss: 0.3246\n"
          ],
          "name": "stdout"
        },
        {
          "output_type": "stream",
          "text": [
            "Running network: 100% (45 of 45) |#######| Elapsed Time: 0:00:03 Time:  0:00:03\n",
            "Parsing annotations: 100% (45 of 45) |###| Elapsed Time: 0:00:00 Time:  0:00:00\n"
          ],
          "name": "stderr"
        },
        {
          "output_type": "stream",
          "text": [
            "0 instances of class 0 with average precision: 0.0000\n",
            "0 instances of class 10 with average precision: 0.0000\n",
            "197 instances of class 2 with average precision: 0.3424\n",
            "0 instances of class 3 with average precision: 0.0000\n",
            "0 instances of class 4 with average precision: 0.0000\n",
            "2 instances of class 5 with average precision: 0.0672\n",
            "0 instances of class 6 with average precision: 0.0000\n",
            "2 instances of class 7 with average precision: 1.0000\n",
            "2 instances of class 8 with average precision: 0.0196\n",
            "0 instances of class 9 with average precision: 0.0000\n",
            "mAP: 0.3573\n",
            "\n",
            "Epoch 00014: saving model to ./snapshots/resnet50_csv_14.h5\n",
            "Epoch 15/40\n",
            "100/100 [==============================] - 22s 225ms/step - loss: 1.1178 - regression_loss: 0.7943 - classification_loss: 0.3235\n"
          ],
          "name": "stdout"
        },
        {
          "output_type": "stream",
          "text": [
            "Running network: 100% (45 of 45) |#######| Elapsed Time: 0:00:03 Time:  0:00:03\n",
            "Parsing annotations: 100% (45 of 45) |###| Elapsed Time: 0:00:00 Time:  0:00:00\n"
          ],
          "name": "stderr"
        },
        {
          "output_type": "stream",
          "text": [
            "0 instances of class 0 with average precision: 0.0000\n",
            "0 instances of class 10 with average precision: 0.0000\n",
            "197 instances of class 2 with average precision: 0.5469\n",
            "0 instances of class 3 with average precision: 0.0000\n",
            "0 instances of class 4 with average precision: 0.0000\n",
            "2 instances of class 5 with average precision: 0.3333\n",
            "0 instances of class 6 with average precision: 0.0000\n",
            "2 instances of class 7 with average precision: 1.0000\n",
            "2 instances of class 8 with average precision: 0.0204\n",
            "0 instances of class 9 with average precision: 0.0000\n",
            "mAP: 0.4751\n",
            "\n",
            "Epoch 00015: saving model to ./snapshots/resnet50_csv_15.h5\n",
            "Epoch 16/40\n",
            "100/100 [==============================] - 23s 226ms/step - loss: 1.0965 - regression_loss: 0.7787 - classification_loss: 0.3178\n"
          ],
          "name": "stdout"
        },
        {
          "output_type": "stream",
          "text": [
            "Running network: 100% (45 of 45) |#######| Elapsed Time: 0:00:03 Time:  0:00:03\n",
            "Parsing annotations: 100% (45 of 45) |###| Elapsed Time: 0:00:00 Time:  0:00:00\n"
          ],
          "name": "stderr"
        },
        {
          "output_type": "stream",
          "text": [
            "0 instances of class 0 with average precision: 0.0000\n",
            "0 instances of class 10 with average precision: 0.0000\n",
            "197 instances of class 2 with average precision: 0.5223\n",
            "0 instances of class 3 with average precision: 0.0000\n",
            "0 instances of class 4 with average precision: 0.0000\n",
            "2 instances of class 5 with average precision: 0.4500\n",
            "0 instances of class 6 with average precision: 0.0000\n",
            "2 instances of class 7 with average precision: 1.0000\n",
            "2 instances of class 8 with average precision: 0.0303\n",
            "0 instances of class 9 with average precision: 0.0000\n",
            "mAP: 0.5007\n",
            "\n",
            "Epoch 00016: saving model to ./snapshots/resnet50_csv_16.h5\n",
            "Epoch 17/40\n",
            "100/100 [==============================] - 22s 225ms/step - loss: 1.0978 - regression_loss: 0.7839 - classification_loss: 0.3138\n"
          ],
          "name": "stdout"
        },
        {
          "output_type": "stream",
          "text": [
            "Running network: 100% (45 of 45) |#######| Elapsed Time: 0:00:03 Time:  0:00:03\n",
            "Parsing annotations: 100% (45 of 45) |###| Elapsed Time: 0:00:00 Time:  0:00:00\n"
          ],
          "name": "stderr"
        },
        {
          "output_type": "stream",
          "text": [
            "0 instances of class 0 with average precision: 0.0000\n",
            "0 instances of class 10 with average precision: 0.0000\n",
            "197 instances of class 2 with average precision: 0.5569\n",
            "0 instances of class 3 with average precision: 0.0000\n",
            "0 instances of class 4 with average precision: 0.0000\n",
            "2 instances of class 5 with average precision: 0.3409\n",
            "0 instances of class 6 with average precision: 0.0000\n",
            "2 instances of class 7 with average precision: 1.0000\n",
            "2 instances of class 8 with average precision: 0.0263\n",
            "0 instances of class 9 with average precision: 0.0000\n",
            "mAP: 0.4810\n",
            "\n",
            "Epoch 00017: saving model to ./snapshots/resnet50_csv_17.h5\n",
            "Epoch 18/40\n",
            "100/100 [==============================] - 22s 224ms/step - loss: 1.1009 - regression_loss: 0.7868 - classification_loss: 0.3141\n"
          ],
          "name": "stdout"
        },
        {
          "output_type": "stream",
          "text": [
            "Running network: 100% (45 of 45) |#######| Elapsed Time: 0:00:03 Time:  0:00:03\n",
            "Parsing annotations: 100% (45 of 45) |###| Elapsed Time: 0:00:00 Time:  0:00:00\n"
          ],
          "name": "stderr"
        },
        {
          "output_type": "stream",
          "text": [
            "0 instances of class 0 with average precision: 0.0000\n",
            "0 instances of class 10 with average precision: 0.0000\n",
            "197 instances of class 2 with average precision: 0.6034\n",
            "0 instances of class 3 with average precision: 0.0000\n",
            "0 instances of class 4 with average precision: 0.0000\n",
            "2 instances of class 5 with average precision: 0.6667\n",
            "0 instances of class 6 with average precision: 0.0000\n",
            "2 instances of class 7 with average precision: 1.0000\n",
            "2 instances of class 8 with average precision: 0.0625\n",
            "0 instances of class 9 with average precision: 0.0000\n",
            "mAP: 0.5831\n",
            "\n",
            "Epoch 00018: saving model to ./snapshots/resnet50_csv_18.h5\n",
            "\n",
            "Epoch 00018: ReduceLROnPlateau reducing learning rate to 9.999999747378752e-07.\n",
            "Epoch 19/40\n",
            "100/100 [==============================] - 23s 229ms/step - loss: 0.9866 - regression_loss: 0.7030 - classification_loss: 0.2836\n"
          ],
          "name": "stdout"
        },
        {
          "output_type": "stream",
          "text": [
            "Running network: 100% (45 of 45) |#######| Elapsed Time: 0:00:03 Time:  0:00:03\n",
            "Parsing annotations: 100% (45 of 45) |###| Elapsed Time: 0:00:00 Time:  0:00:00\n"
          ],
          "name": "stderr"
        },
        {
          "output_type": "stream",
          "text": [
            "0 instances of class 0 with average precision: 0.0000\n",
            "0 instances of class 10 with average precision: 0.0000\n",
            "197 instances of class 2 with average precision: 0.6344\n",
            "0 instances of class 3 with average precision: 0.0000\n",
            "0 instances of class 4 with average precision: 0.0000\n",
            "2 instances of class 5 with average precision: 0.6667\n",
            "0 instances of class 6 with average precision: 0.0000\n",
            "2 instances of class 7 with average precision: 1.0000\n",
            "2 instances of class 8 with average precision: 0.0588\n",
            "0 instances of class 9 with average precision: 0.0000\n",
            "mAP: 0.5900\n",
            "\n",
            "Epoch 00019: saving model to ./snapshots/resnet50_csv_19.h5\n",
            "Epoch 20/40\n",
            "100/100 [==============================] - 23s 225ms/step - loss: 0.8850 - regression_loss: 0.6051 - classification_loss: 0.2799\n"
          ],
          "name": "stdout"
        },
        {
          "output_type": "stream",
          "text": [
            "Running network: 100% (45 of 45) |#######| Elapsed Time: 0:00:03 Time:  0:00:03\n",
            "Parsing annotations: 100% (45 of 45) |###| Elapsed Time: 0:00:00 Time:  0:00:00\n"
          ],
          "name": "stderr"
        },
        {
          "output_type": "stream",
          "text": [
            "0 instances of class 0 with average precision: 0.0000\n",
            "0 instances of class 10 with average precision: 0.0000\n",
            "197 instances of class 2 with average precision: 0.6990\n",
            "0 instances of class 3 with average precision: 0.0000\n",
            "0 instances of class 4 with average precision: 0.0000\n",
            "2 instances of class 5 with average precision: 0.6667\n",
            "0 instances of class 6 with average precision: 0.0000\n",
            "2 instances of class 7 with average precision: 1.0000\n",
            "2 instances of class 8 with average precision: 0.0500\n",
            "0 instances of class 9 with average precision: 0.0000\n",
            "mAP: 0.6039\n",
            "\n",
            "Epoch 00020: saving model to ./snapshots/resnet50_csv_20.h5\n",
            "Epoch 21/40\n",
            "100/100 [==============================] - 22s 225ms/step - loss: 0.9269 - regression_loss: 0.6494 - classification_loss: 0.2775\n"
          ],
          "name": "stdout"
        },
        {
          "output_type": "stream",
          "text": [
            "Running network: 100% (45 of 45) |#######| Elapsed Time: 0:00:03 Time:  0:00:03\n",
            "Parsing annotations: 100% (45 of 45) |###| Elapsed Time: 0:00:00 Time:  0:00:00\n"
          ],
          "name": "stderr"
        },
        {
          "output_type": "stream",
          "text": [
            "0 instances of class 0 with average precision: 0.0000\n",
            "0 instances of class 10 with average precision: 0.0000\n",
            "197 instances of class 2 with average precision: 0.6548\n",
            "0 instances of class 3 with average precision: 0.0000\n",
            "0 instances of class 4 with average precision: 0.0000\n",
            "2 instances of class 5 with average precision: 0.6667\n",
            "0 instances of class 6 with average precision: 0.0000\n",
            "2 instances of class 7 with average precision: 1.0000\n",
            "2 instances of class 8 with average precision: 0.0580\n",
            "0 instances of class 9 with average precision: 0.0000\n",
            "mAP: 0.5949\n",
            "\n",
            "Epoch 00021: saving model to ./snapshots/resnet50_csv_21.h5\n",
            "Epoch 22/40\n",
            "100/100 [==============================] - 22s 225ms/step - loss: 0.8059 - regression_loss: 0.5512 - classification_loss: 0.2547\n"
          ],
          "name": "stdout"
        },
        {
          "output_type": "stream",
          "text": [
            "Running network: 100% (45 of 45) |#######| Elapsed Time: 0:00:03 Time:  0:00:03\n",
            "Parsing annotations: 100% (45 of 45) |###| Elapsed Time: 0:00:00 Time:  0:00:00\n"
          ],
          "name": "stderr"
        },
        {
          "output_type": "stream",
          "text": [
            "0 instances of class 0 with average precision: 0.0000\n",
            "0 instances of class 10 with average precision: 0.0000\n",
            "197 instances of class 2 with average precision: 0.6552\n",
            "0 instances of class 3 with average precision: 0.0000\n",
            "0 instances of class 4 with average precision: 0.0000\n",
            "2 instances of class 5 with average precision: 0.6667\n",
            "0 instances of class 6 with average precision: 0.0000\n",
            "2 instances of class 7 with average precision: 1.0000\n",
            "2 instances of class 8 with average precision: 0.0588\n",
            "0 instances of class 9 with average precision: 0.0000\n",
            "mAP: 0.5952\n",
            "\n",
            "Epoch 00022: saving model to ./snapshots/resnet50_csv_22.h5\n",
            "Epoch 23/40\n",
            "100/100 [==============================] - 22s 224ms/step - loss: 0.8857 - regression_loss: 0.6142 - classification_loss: 0.2715\n"
          ],
          "name": "stdout"
        },
        {
          "output_type": "stream",
          "text": [
            "Running network: 100% (45 of 45) |#######| Elapsed Time: 0:00:03 Time:  0:00:03\n",
            "Parsing annotations: 100% (45 of 45) |###| Elapsed Time: 0:00:00 Time:  0:00:00\n"
          ],
          "name": "stderr"
        },
        {
          "output_type": "stream",
          "text": [
            "0 instances of class 0 with average precision: 0.0000\n",
            "0 instances of class 10 with average precision: 0.0000\n",
            "197 instances of class 2 with average precision: 0.6289\n",
            "0 instances of class 3 with average precision: 0.0000\n",
            "0 instances of class 4 with average precision: 0.0000\n",
            "2 instances of class 5 with average precision: 0.6667\n",
            "0 instances of class 6 with average precision: 0.0000\n",
            "2 instances of class 7 with average precision: 1.0000\n",
            "2 instances of class 8 with average precision: 0.0714\n",
            "0 instances of class 9 with average precision: 0.0000\n",
            "mAP: 0.5918\n",
            "\n",
            "Epoch 00023: saving model to ./snapshots/resnet50_csv_23.h5\n",
            "Epoch 24/40\n",
            "100/100 [==============================] - 22s 225ms/step - loss: 0.8841 - regression_loss: 0.6206 - classification_loss: 0.2635\n"
          ],
          "name": "stdout"
        },
        {
          "output_type": "stream",
          "text": [
            "Running network: 100% (45 of 45) |#######| Elapsed Time: 0:00:03 Time:  0:00:03\n",
            "Parsing annotations: 100% (45 of 45) |###| Elapsed Time: 0:00:00 Time:  0:00:00\n"
          ],
          "name": "stderr"
        },
        {
          "output_type": "stream",
          "text": [
            "0 instances of class 0 with average precision: 0.0000\n",
            "0 instances of class 10 with average precision: 0.0000\n",
            "197 instances of class 2 with average precision: 0.7033\n",
            "0 instances of class 3 with average precision: 0.0000\n",
            "0 instances of class 4 with average precision: 0.0000\n",
            "2 instances of class 5 with average precision: 0.6667\n",
            "0 instances of class 6 with average precision: 0.0000\n",
            "2 instances of class 7 with average precision: 1.0000\n",
            "2 instances of class 8 with average precision: 0.0769\n",
            "0 instances of class 9 with average precision: 0.0000\n",
            "mAP: 0.6117\n",
            "\n",
            "Epoch 00024: saving model to ./snapshots/resnet50_csv_24.h5\n",
            "\n",
            "Epoch 00024: ReduceLROnPlateau reducing learning rate to 9.999999974752428e-08.\n",
            "Epoch 25/40\n",
            "100/100 [==============================] - 22s 225ms/step - loss: 0.8332 - regression_loss: 0.5801 - classification_loss: 0.2531\n"
          ],
          "name": "stdout"
        },
        {
          "output_type": "stream",
          "text": [
            "Running network: 100% (45 of 45) |#######| Elapsed Time: 0:00:03 Time:  0:00:03\n",
            "Parsing annotations: 100% (45 of 45) |###| Elapsed Time: 0:00:00 Time:  0:00:00\n"
          ],
          "name": "stderr"
        },
        {
          "output_type": "stream",
          "text": [
            "0 instances of class 0 with average precision: 0.0000\n",
            "0 instances of class 10 with average precision: 0.0000\n",
            "197 instances of class 2 with average precision: 0.6731\n",
            "0 instances of class 3 with average precision: 0.0000\n",
            "0 instances of class 4 with average precision: 0.0000\n",
            "2 instances of class 5 with average precision: 0.6667\n",
            "0 instances of class 6 with average precision: 0.0000\n",
            "2 instances of class 7 with average precision: 1.0000\n",
            "2 instances of class 8 with average precision: 0.0741\n",
            "0 instances of class 9 with average precision: 0.0000\n",
            "mAP: 0.6035\n",
            "\n",
            "Epoch 00025: saving model to ./snapshots/resnet50_csv_25.h5\n",
            "Epoch 26/40\n",
            "100/100 [==============================] - 22s 225ms/step - loss: 0.8732 - regression_loss: 0.6098 - classification_loss: 0.2634\n"
          ],
          "name": "stdout"
        },
        {
          "output_type": "stream",
          "text": [
            "Running network: 100% (45 of 45) |#######| Elapsed Time: 0:00:03 Time:  0:00:03\n",
            "Parsing annotations: 100% (45 of 45) |###| Elapsed Time: 0:00:00 Time:  0:00:00\n"
          ],
          "name": "stderr"
        },
        {
          "output_type": "stream",
          "text": [
            "0 instances of class 0 with average precision: 0.0000\n",
            "0 instances of class 10 with average precision: 0.0000\n",
            "197 instances of class 2 with average precision: 0.6744\n",
            "0 instances of class 3 with average precision: 0.0000\n",
            "0 instances of class 4 with average precision: 0.0000\n",
            "2 instances of class 5 with average precision: 0.6667\n",
            "0 instances of class 6 with average precision: 0.0000\n",
            "2 instances of class 7 with average precision: 1.0000\n",
            "2 instances of class 8 with average precision: 0.0741\n",
            "0 instances of class 9 with average precision: 0.0000\n",
            "mAP: 0.6038\n",
            "\n",
            "Epoch 00026: saving model to ./snapshots/resnet50_csv_26.h5\n",
            "\n",
            "Epoch 00026: ReduceLROnPlateau reducing learning rate to 1.0000000116860975e-08.\n",
            "Epoch 27/40\n",
            "100/100 [==============================] - 22s 225ms/step - loss: 0.8294 - regression_loss: 0.5628 - classification_loss: 0.2666\n"
          ],
          "name": "stdout"
        },
        {
          "output_type": "stream",
          "text": [
            "Running network: 100% (45 of 45) |#######| Elapsed Time: 0:00:03 Time:  0:00:03\n",
            "Parsing annotations: 100% (45 of 45) |###| Elapsed Time: 0:00:00 Time:  0:00:00\n"
          ],
          "name": "stderr"
        },
        {
          "output_type": "stream",
          "text": [
            "0 instances of class 0 with average precision: 0.0000\n",
            "0 instances of class 10 with average precision: 0.0000\n",
            "197 instances of class 2 with average precision: 0.6740\n",
            "0 instances of class 3 with average precision: 0.0000\n",
            "0 instances of class 4 with average precision: 0.0000\n",
            "2 instances of class 5 with average precision: 0.6667\n",
            "0 instances of class 6 with average precision: 0.0000\n",
            "2 instances of class 7 with average precision: 1.0000\n",
            "2 instances of class 8 with average precision: 0.0741\n",
            "0 instances of class 9 with average precision: 0.0000\n",
            "mAP: 0.6037\n",
            "\n",
            "Epoch 00027: saving model to ./snapshots/resnet50_csv_27.h5\n",
            "Epoch 28/40\n",
            "100/100 [==============================] - 23s 228ms/step - loss: 0.8773 - regression_loss: 0.6239 - classification_loss: 0.2534\n"
          ],
          "name": "stdout"
        },
        {
          "output_type": "stream",
          "text": [
            "Running network: 100% (45 of 45) |#######| Elapsed Time: 0:00:03 Time:  0:00:03\n",
            "Parsing annotations: 100% (45 of 45) |###| Elapsed Time: 0:00:00 Time:  0:00:00\n"
          ],
          "name": "stderr"
        },
        {
          "output_type": "stream",
          "text": [
            "0 instances of class 0 with average precision: 0.0000\n",
            "0 instances of class 10 with average precision: 0.0000\n",
            "197 instances of class 2 with average precision: 0.6737\n",
            "0 instances of class 3 with average precision: 0.0000\n",
            "0 instances of class 4 with average precision: 0.0000\n",
            "2 instances of class 5 with average precision: 0.6667\n",
            "0 instances of class 6 with average precision: 0.0000\n",
            "2 instances of class 7 with average precision: 1.0000\n",
            "2 instances of class 8 with average precision: 0.0741\n",
            "0 instances of class 9 with average precision: 0.0000\n",
            "mAP: 0.6036\n",
            "\n",
            "Epoch 00028: saving model to ./snapshots/resnet50_csv_28.h5\n",
            "\n",
            "Epoch 00028: ReduceLROnPlateau reducing learning rate to 9.999999939225292e-10.\n",
            "Epoch 29/40\n",
            "100/100 [==============================] - 22s 224ms/step - loss: 0.8284 - regression_loss: 0.5692 - classification_loss: 0.2592\n"
          ],
          "name": "stdout"
        },
        {
          "output_type": "stream",
          "text": [
            "Running network: 100% (45 of 45) |#######| Elapsed Time: 0:00:03 Time:  0:00:03\n",
            "Parsing annotations: 100% (45 of 45) |###| Elapsed Time: 0:00:00 Time:  0:00:00\n"
          ],
          "name": "stderr"
        },
        {
          "output_type": "stream",
          "text": [
            "0 instances of class 0 with average precision: 0.0000\n",
            "0 instances of class 10 with average precision: 0.0000\n",
            "197 instances of class 2 with average precision: 0.6736\n",
            "0 instances of class 3 with average precision: 0.0000\n",
            "0 instances of class 4 with average precision: 0.0000\n",
            "2 instances of class 5 with average precision: 0.6667\n",
            "0 instances of class 6 with average precision: 0.0000\n",
            "2 instances of class 7 with average precision: 1.0000\n",
            "2 instances of class 8 with average precision: 0.0741\n",
            "0 instances of class 9 with average precision: 0.0000\n",
            "mAP: 0.6036\n",
            "\n",
            "Epoch 00029: saving model to ./snapshots/resnet50_csv_29.h5\n",
            "Epoch 30/40\n",
            "100/100 [==============================] - 22s 225ms/step - loss: 0.8608 - regression_loss: 0.6055 - classification_loss: 0.2553\n"
          ],
          "name": "stdout"
        },
        {
          "output_type": "stream",
          "text": [
            "Running network: 100% (45 of 45) |#######| Elapsed Time: 0:00:03 Time:  0:00:03\n",
            "Parsing annotations: 100% (45 of 45) |###| Elapsed Time: 0:00:00 Time:  0:00:00\n"
          ],
          "name": "stderr"
        },
        {
          "output_type": "stream",
          "text": [
            "0 instances of class 0 with average precision: 0.0000\n",
            "0 instances of class 10 with average precision: 0.0000\n",
            "197 instances of class 2 with average precision: 0.6737\n",
            "0 instances of class 3 with average precision: 0.0000\n",
            "0 instances of class 4 with average precision: 0.0000\n",
            "2 instances of class 5 with average precision: 0.6667\n",
            "0 instances of class 6 with average precision: 0.0000\n",
            "2 instances of class 7 with average precision: 1.0000\n",
            "2 instances of class 8 with average precision: 0.0741\n",
            "0 instances of class 9 with average precision: 0.0000\n",
            "mAP: 0.6036\n",
            "\n",
            "Epoch 00030: saving model to ./snapshots/resnet50_csv_30.h5\n",
            "\n",
            "Epoch 00030: ReduceLROnPlateau reducing learning rate to 9.999999717180686e-11.\n",
            "Epoch 31/40\n",
            "100/100 [==============================] - 22s 224ms/step - loss: 0.8400 - regression_loss: 0.5782 - classification_loss: 0.2618\n"
          ],
          "name": "stdout"
        },
        {
          "output_type": "stream",
          "text": [
            "Running network: 100% (45 of 45) |#######| Elapsed Time: 0:00:03 Time:  0:00:03\n",
            "Parsing annotations: 100% (45 of 45) |###| Elapsed Time: 0:00:00 Time:  0:00:00\n"
          ],
          "name": "stderr"
        },
        {
          "output_type": "stream",
          "text": [
            "0 instances of class 0 with average precision: 0.0000\n",
            "0 instances of class 10 with average precision: 0.0000\n",
            "197 instances of class 2 with average precision: 0.6737\n",
            "0 instances of class 3 with average precision: 0.0000\n",
            "0 instances of class 4 with average precision: 0.0000\n",
            "2 instances of class 5 with average precision: 0.6667\n",
            "0 instances of class 6 with average precision: 0.0000\n",
            "2 instances of class 7 with average precision: 1.0000\n",
            "2 instances of class 8 with average precision: 0.0741\n",
            "0 instances of class 9 with average precision: 0.0000\n",
            "mAP: 0.6036\n",
            "\n",
            "Epoch 00031: saving model to ./snapshots/resnet50_csv_31.h5\n",
            "Epoch 32/40\n",
            "100/100 [==============================] - 22s 224ms/step - loss: 0.8244 - regression_loss: 0.5692 - classification_loss: 0.2552\n"
          ],
          "name": "stdout"
        },
        {
          "output_type": "stream",
          "text": [
            "Running network: 100% (45 of 45) |#######| Elapsed Time: 0:00:03 Time:  0:00:03\n",
            "Parsing annotations: 100% (45 of 45) |###| Elapsed Time: 0:00:00 Time:  0:00:00\n"
          ],
          "name": "stderr"
        },
        {
          "output_type": "stream",
          "text": [
            "0 instances of class 0 with average precision: 0.0000\n",
            "0 instances of class 10 with average precision: 0.0000\n",
            "197 instances of class 2 with average precision: 0.6737\n",
            "0 instances of class 3 with average precision: 0.0000\n",
            "0 instances of class 4 with average precision: 0.0000\n",
            "2 instances of class 5 with average precision: 0.6667\n",
            "0 instances of class 6 with average precision: 0.0000\n",
            "2 instances of class 7 with average precision: 1.0000\n",
            "2 instances of class 8 with average precision: 0.0741\n",
            "0 instances of class 9 with average precision: 0.0000\n",
            "mAP: 0.6036\n",
            "\n",
            "Epoch 00032: saving model to ./snapshots/resnet50_csv_32.h5\n",
            "\n",
            "Epoch 00032: ReduceLROnPlateau reducing learning rate to 9.99999943962493e-12.\n",
            "Epoch 33/40\n",
            "100/100 [==============================] - 22s 224ms/step - loss: 0.7271 - regression_loss: 0.4908 - classification_loss: 0.2363\n"
          ],
          "name": "stdout"
        },
        {
          "output_type": "stream",
          "text": [
            "Running network: 100% (45 of 45) |#######| Elapsed Time: 0:00:03 Time:  0:00:03\n",
            "Parsing annotations: 100% (45 of 45) |###| Elapsed Time: 0:00:00 Time:  0:00:00\n"
          ],
          "name": "stderr"
        },
        {
          "output_type": "stream",
          "text": [
            "0 instances of class 0 with average precision: 0.0000\n",
            "0 instances of class 10 with average precision: 0.0000\n",
            "197 instances of class 2 with average precision: 0.6737\n",
            "0 instances of class 3 with average precision: 0.0000\n",
            "0 instances of class 4 with average precision: 0.0000\n",
            "2 instances of class 5 with average precision: 0.6667\n",
            "0 instances of class 6 with average precision: 0.0000\n",
            "2 instances of class 7 with average precision: 1.0000\n",
            "2 instances of class 8 with average precision: 0.0741\n",
            "0 instances of class 9 with average precision: 0.0000\n",
            "mAP: 0.6036\n",
            "\n",
            "Epoch 00033: saving model to ./snapshots/resnet50_csv_33.h5\n",
            "Epoch 34/40\n",
            "100/100 [==============================] - 22s 225ms/step - loss: 0.8879 - regression_loss: 0.6182 - classification_loss: 0.2696\n"
          ],
          "name": "stdout"
        },
        {
          "output_type": "stream",
          "text": [
            "Running network: 100% (45 of 45) |#######| Elapsed Time: 0:00:03 Time:  0:00:03\n",
            "Parsing annotations: 100% (45 of 45) |###| Elapsed Time: 0:00:00 Time:  0:00:00\n"
          ],
          "name": "stderr"
        },
        {
          "output_type": "stream",
          "text": [
            "0 instances of class 0 with average precision: 0.0000\n",
            "0 instances of class 10 with average precision: 0.0000\n",
            "197 instances of class 2 with average precision: 0.6737\n",
            "0 instances of class 3 with average precision: 0.0000\n",
            "0 instances of class 4 with average precision: 0.0000\n",
            "2 instances of class 5 with average precision: 0.6667\n",
            "0 instances of class 6 with average precision: 0.0000\n",
            "2 instances of class 7 with average precision: 1.0000\n",
            "2 instances of class 8 with average precision: 0.0741\n",
            "0 instances of class 9 with average precision: 0.0000\n",
            "mAP: 0.6036\n",
            "\n",
            "Epoch 00034: saving model to ./snapshots/resnet50_csv_34.h5\n",
            "Epoch 35/40\n",
            "100/100 [==============================] - 22s 224ms/step - loss: 0.9348 - regression_loss: 0.6482 - classification_loss: 0.2866\n"
          ],
          "name": "stdout"
        },
        {
          "output_type": "stream",
          "text": [
            "Running network: 100% (45 of 45) |#######| Elapsed Time: 0:00:03 Time:  0:00:03\n",
            "Parsing annotations: 100% (45 of 45) |###| Elapsed Time: 0:00:00 Time:  0:00:00\n"
          ],
          "name": "stderr"
        },
        {
          "output_type": "stream",
          "text": [
            "0 instances of class 0 with average precision: 0.0000\n",
            "0 instances of class 10 with average precision: 0.0000\n",
            "197 instances of class 2 with average precision: 0.6737\n",
            "0 instances of class 3 with average precision: 0.0000\n",
            "0 instances of class 4 with average precision: 0.0000\n",
            "2 instances of class 5 with average precision: 0.6667\n",
            "0 instances of class 6 with average precision: 0.0000\n",
            "2 instances of class 7 with average precision: 1.0000\n",
            "2 instances of class 8 with average precision: 0.0741\n",
            "0 instances of class 9 with average precision: 0.0000\n",
            "mAP: 0.6036\n",
            "\n",
            "Epoch 00035: saving model to ./snapshots/resnet50_csv_35.h5\n",
            "\n",
            "Epoch 00035: ReduceLROnPlateau reducing learning rate to 9.999999092680235e-13.\n",
            "Epoch 36/40\n",
            "100/100 [==============================] - 22s 224ms/step - loss: 0.9081 - regression_loss: 0.6526 - classification_loss: 0.2555\n"
          ],
          "name": "stdout"
        },
        {
          "output_type": "stream",
          "text": [
            "Running network: 100% (45 of 45) |#######| Elapsed Time: 0:00:03 Time:  0:00:03\n",
            "Parsing annotations: 100% (45 of 45) |###| Elapsed Time: 0:00:00 Time:  0:00:00\n"
          ],
          "name": "stderr"
        },
        {
          "output_type": "stream",
          "text": [
            "0 instances of class 0 with average precision: 0.0000\n",
            "0 instances of class 10 with average precision: 0.0000\n",
            "197 instances of class 2 with average precision: 0.6737\n",
            "0 instances of class 3 with average precision: 0.0000\n",
            "0 instances of class 4 with average precision: 0.0000\n",
            "2 instances of class 5 with average precision: 0.6667\n",
            "0 instances of class 6 with average precision: 0.0000\n",
            "2 instances of class 7 with average precision: 1.0000\n",
            "2 instances of class 8 with average precision: 0.0741\n",
            "0 instances of class 9 with average precision: 0.0000\n",
            "mAP: 0.6036\n",
            "\n",
            "Epoch 00036: saving model to ./snapshots/resnet50_csv_36.h5\n",
            "Epoch 37/40\n",
            "100/100 [==============================] - 22s 225ms/step - loss: 0.8379 - regression_loss: 0.5661 - classification_loss: 0.2718\n"
          ],
          "name": "stdout"
        },
        {
          "output_type": "stream",
          "text": [
            "Running network: 100% (45 of 45) |#######| Elapsed Time: 0:00:03 Time:  0:00:03\n",
            "Parsing annotations: 100% (45 of 45) |###| Elapsed Time: 0:00:00 Time:  0:00:00\n"
          ],
          "name": "stderr"
        },
        {
          "output_type": "stream",
          "text": [
            "0 instances of class 0 with average precision: 0.0000\n",
            "0 instances of class 10 with average precision: 0.0000\n",
            "197 instances of class 2 with average precision: 0.6737\n",
            "0 instances of class 3 with average precision: 0.0000\n",
            "0 instances of class 4 with average precision: 0.0000\n",
            "2 instances of class 5 with average precision: 0.6667\n",
            "0 instances of class 6 with average precision: 0.0000\n",
            "2 instances of class 7 with average precision: 1.0000\n",
            "2 instances of class 8 with average precision: 0.0741\n",
            "0 instances of class 9 with average precision: 0.0000\n",
            "mAP: 0.6036\n",
            "\n",
            "Epoch 00037: saving model to ./snapshots/resnet50_csv_37.h5\n",
            "\n",
            "Epoch 00037: ReduceLROnPlateau reducing learning rate to 9.9999988758398e-14.\n",
            "Epoch 38/40\n",
            "100/100 [==============================] - 23s 230ms/step - loss: 0.8663 - regression_loss: 0.6013 - classification_loss: 0.2650\n"
          ],
          "name": "stdout"
        },
        {
          "output_type": "stream",
          "text": [
            "Running network: 100% (45 of 45) |#######| Elapsed Time: 0:00:03 Time:  0:00:03\n",
            "Parsing annotations: 100% (45 of 45) |###| Elapsed Time: 0:00:00 Time:  0:00:00\n"
          ],
          "name": "stderr"
        },
        {
          "output_type": "stream",
          "text": [
            "0 instances of class 0 with average precision: 0.0000\n",
            "0 instances of class 10 with average precision: 0.0000\n",
            "197 instances of class 2 with average precision: 0.6737\n",
            "0 instances of class 3 with average precision: 0.0000\n",
            "0 instances of class 4 with average precision: 0.0000\n",
            "2 instances of class 5 with average precision: 0.6667\n",
            "0 instances of class 6 with average precision: 0.0000\n",
            "2 instances of class 7 with average precision: 1.0000\n",
            "2 instances of class 8 with average precision: 0.0741\n",
            "0 instances of class 9 with average precision: 0.0000\n",
            "mAP: 0.6036\n",
            "\n",
            "Epoch 00038: saving model to ./snapshots/resnet50_csv_38.h5\n",
            "Epoch 39/40\n",
            "100/100 [==============================] - 22s 224ms/step - loss: 0.8864 - regression_loss: 0.6178 - classification_loss: 0.2686\n"
          ],
          "name": "stdout"
        },
        {
          "output_type": "stream",
          "text": [
            "Running network: 100% (45 of 45) |#######| Elapsed Time: 0:00:03 Time:  0:00:03\n",
            "Parsing annotations: 100% (45 of 45) |###| Elapsed Time: 0:00:00 Time:  0:00:00\n"
          ],
          "name": "stderr"
        },
        {
          "output_type": "stream",
          "text": [
            "0 instances of class 0 with average precision: 0.0000\n",
            "0 instances of class 10 with average precision: 0.0000\n",
            "197 instances of class 2 with average precision: 0.6737\n",
            "0 instances of class 3 with average precision: 0.0000\n",
            "0 instances of class 4 with average precision: 0.0000\n",
            "2 instances of class 5 with average precision: 0.6667\n",
            "0 instances of class 6 with average precision: 0.0000\n",
            "2 instances of class 7 with average precision: 1.0000\n",
            "2 instances of class 8 with average precision: 0.0741\n",
            "0 instances of class 9 with average precision: 0.0000\n",
            "mAP: 0.6036\n",
            "\n",
            "Epoch 00039: saving model to ./snapshots/resnet50_csv_39.h5\n",
            "\n",
            "Epoch 00039: ReduceLROnPlateau reducing learning rate to 9.999999146890344e-15.\n",
            "Epoch 40/40\n",
            "100/100 [==============================] - 22s 223ms/step - loss: 0.8621 - regression_loss: 0.6046 - classification_loss: 0.2575\n"
          ],
          "name": "stdout"
        },
        {
          "output_type": "stream",
          "text": [
            "Running network: 100% (45 of 45) |#######| Elapsed Time: 0:00:03 Time:  0:00:03\n",
            "Parsing annotations: 100% (45 of 45) |###| Elapsed Time: 0:00:00 Time:  0:00:00\n"
          ],
          "name": "stderr"
        },
        {
          "output_type": "stream",
          "text": [
            "0 instances of class 0 with average precision: 0.0000\n",
            "0 instances of class 10 with average precision: 0.0000\n",
            "197 instances of class 2 with average precision: 0.6737\n",
            "0 instances of class 3 with average precision: 0.0000\n",
            "0 instances of class 4 with average precision: 0.0000\n",
            "2 instances of class 5 with average precision: 0.6667\n",
            "0 instances of class 6 with average precision: 0.0000\n",
            "2 instances of class 7 with average precision: 1.0000\n",
            "2 instances of class 8 with average precision: 0.0741\n",
            "0 instances of class 9 with average precision: 0.0000\n",
            "mAP: 0.6036\n",
            "\n",
            "Epoch 00040: saving model to ./snapshots/resnet50_csv_40.h5\n"
          ],
          "name": "stdout"
        },
        {
          "output_type": "execute_result",
          "data": {
            "text/plain": [
              "<keras.callbacks.History at 0x7f3772838f60>"
            ]
          },
          "metadata": {
            "tags": []
          },
          "execution_count": 33
        }
      ]
    },
    {
      "cell_type": "code",
      "metadata": {
        "id": "_qKV6KNlnGxC",
        "colab_type": "code",
        "outputId": "d64688dc-c7e2-45de-9880-14b1774f7151",
        "colab": {
          "base_uri": "https://localhost:8080/",
          "height": 919
        }
      },
      "source": [
        "# Converting a training model to inference model\n",
        "!retinanet-convert-model /content/snapshots/resnet50_csv_40.h5 /content/model.h5"
      ],
      "execution_count": 34,
      "outputs": [
        {
          "output_type": "stream",
          "text": [
            "Using TensorFlow backend.\n",
            "WARNING:tensorflow:From /usr/local/lib/python3.6/dist-packages/keras_retinanet/bin/convert_model.py:40: The name tf.ConfigProto is deprecated. Please use tf.compat.v1.ConfigProto instead.\n",
            "\n",
            "WARNING:tensorflow:From /usr/local/lib/python3.6/dist-packages/keras_retinanet/bin/convert_model.py:42: The name tf.Session is deprecated. Please use tf.compat.v1.Session instead.\n",
            "\n",
            "2019-12-16 08:40:47.641319: I tensorflow/core/platform/profile_utils/cpu_utils.cc:94] CPU Frequency: 2300000000 Hz\n",
            "2019-12-16 08:40:47.641612: I tensorflow/compiler/xla/service/service.cc:168] XLA service 0x208ed80 initialized for platform Host (this does not guarantee that XLA will be used). Devices:\n",
            "2019-12-16 08:40:47.641648: I tensorflow/compiler/xla/service/service.cc:176]   StreamExecutor device (0): Host, Default Version\n",
            "2019-12-16 08:40:47.658107: I tensorflow/stream_executor/platform/default/dso_loader.cc:44] Successfully opened dynamic library libcuda.so.1\n",
            "2019-12-16 08:40:47.660855: E tensorflow/stream_executor/cuda/cuda_driver.cc:318] failed call to cuInit: CUDA_ERROR_NO_DEVICE: no CUDA-capable device is detected\n",
            "2019-12-16 08:40:47.660908: I tensorflow/stream_executor/cuda/cuda_diagnostics.cc:169] retrieving CUDA diagnostic information for host: 542d2cb98137\n",
            "2019-12-16 08:40:47.660926: I tensorflow/stream_executor/cuda/cuda_diagnostics.cc:176] hostname: 542d2cb98137\n",
            "2019-12-16 08:40:47.661001: I tensorflow/stream_executor/cuda/cuda_diagnostics.cc:200] libcuda reported version is: 418.67.0\n",
            "2019-12-16 08:40:47.661040: I tensorflow/stream_executor/cuda/cuda_diagnostics.cc:204] kernel reported version is: 418.67.0\n",
            "2019-12-16 08:40:47.661055: I tensorflow/stream_executor/cuda/cuda_diagnostics.cc:310] kernel version seems to match DSO: 418.67.0\n",
            "WARNING:tensorflow:From /usr/local/lib/python3.6/dist-packages/keras/backend/tensorflow_backend.py:541: The name tf.placeholder is deprecated. Please use tf.compat.v1.placeholder instead.\n",
            "\n",
            "WARNING:tensorflow:From /usr/local/lib/python3.6/dist-packages/keras/backend/tensorflow_backend.py:4409: The name tf.random_normal is deprecated. Please use tf.random.normal instead.\n",
            "\n",
            "WARNING:tensorflow:From /usr/local/lib/python3.6/dist-packages/keras/backend/tensorflow_backend.py:4432: The name tf.random_uniform is deprecated. Please use tf.random.uniform instead.\n",
            "\n",
            "WARNING:tensorflow:From /usr/local/lib/python3.6/dist-packages/keras/backend/tensorflow_backend.py:2139: The name tf.nn.fused_batch_norm is deprecated. Please use tf.compat.v1.nn.fused_batch_norm instead.\n",
            "\n",
            "WARNING:tensorflow:From /usr/local/lib/python3.6/dist-packages/keras/backend/tensorflow_backend.py:4267: The name tf.nn.max_pool is deprecated. Please use tf.nn.max_pool2d instead.\n",
            "\n",
            "WARNING:tensorflow:From /usr/local/lib/python3.6/dist-packages/keras/backend/tensorflow_backend.py:4479: The name tf.truncated_normal is deprecated. Please use tf.random.truncated_normal instead.\n",
            "\n",
            "WARNING:tensorflow:From /usr/local/lib/python3.6/dist-packages/keras_retinanet/backend/tensorflow_backend.py:68: The name tf.image.resize_images is deprecated. Please use tf.image.resize instead.\n",
            "\n",
            "WARNING:tensorflow:From /usr/local/lib/python3.6/dist-packages/keras/backend/tensorflow_backend.py:190: The name tf.get_default_session is deprecated. Please use tf.compat.v1.get_default_session instead.\n",
            "\n",
            "WARNING:tensorflow:From /usr/local/lib/python3.6/dist-packages/keras/backend/tensorflow_backend.py:207: The name tf.global_variables is deprecated. Please use tf.compat.v1.global_variables instead.\n",
            "\n",
            "WARNING:tensorflow:From /usr/local/lib/python3.6/dist-packages/keras/backend/tensorflow_backend.py:216: The name tf.is_variable_initialized is deprecated. Please use tf.compat.v1.is_variable_initialized instead.\n",
            "\n",
            "WARNING:tensorflow:From /usr/local/lib/python3.6/dist-packages/keras/backend/tensorflow_backend.py:223: The name tf.variables_initializer is deprecated. Please use tf.compat.v1.variables_initializer instead.\n",
            "\n",
            "WARNING:tensorflow:From /usr/local/lib/python3.6/dist-packages/keras/optimizers.py:793: The name tf.train.Optimizer is deprecated. Please use tf.compat.v1.train.Optimizer instead.\n",
            "\n",
            "WARNING:tensorflow:From /usr/local/lib/python3.6/dist-packages/keras_retinanet/backend/tensorflow_backend.py:104: where (from tensorflow.python.ops.array_ops) is deprecated and will be removed in a future version.\n",
            "Instructions for updating:\n",
            "Use tf.where in 2.0, which has the same broadcast rule as np.where\n",
            "WARNING:tensorflow:From /usr/local/lib/python3.6/dist-packages/keras/backend/tensorflow_backend.py:3657: The name tf.log is deprecated. Please use tf.math.log instead.\n",
            "\n",
            "WARNING:tensorflow:From /usr/local/lib/python3.6/dist-packages/keras/backend/tensorflow_backend.py:1033: The name tf.assign_add is deprecated. Please use tf.compat.v1.assign_add instead.\n",
            "\n",
            "WARNING:tensorflow:From /usr/local/lib/python3.6/dist-packages/keras/backend/tensorflow_backend.py:1020: The name tf.assign is deprecated. Please use tf.compat.v1.assign instead.\n",
            "\n"
          ],
          "name": "stdout"
        }
      ]
    },
    {
      "cell_type": "code",
      "metadata": {
        "id": "XP4UUec3KW5o",
        "colab_type": "code",
        "outputId": "bc5bf305-7df4-40a5-9430-6da443caaa5f",
        "colab": {
          "base_uri": "https://localhost:8080/",
          "height": 74
        }
      },
      "source": [
        "from keras_retinanet.models import load_model\n",
        "model = load_model('/content/model.h5', backbone_name='resnet50')"
      ],
      "execution_count": 35,
      "outputs": [
        {
          "output_type": "stream",
          "text": [
            "/usr/local/lib/python3.6/dist-packages/keras/engine/saving.py:310: UserWarning: No training configuration found in save file: the model was *not* compiled. Compile it manually.\n",
            "  warnings.warn('No training configuration found in save file: '\n"
          ],
          "name": "stderr"
        }
      ]
    },
    {
      "cell_type": "code",
      "metadata": {
        "id": "CHFzC3-Qfdjs",
        "colab_type": "code",
        "outputId": "81e52afb-0f84-4563-ee1d-c41245c30b9f",
        "colab": {
          "base_uri": "https://localhost:8080/",
          "height": 287
        }
      },
      "source": [
        "image = read_image_bgr('/content/drive/My Drive/Colab Notebooks/ds11/612.png')\n",
        "plt.imshow(image)"
      ],
      "execution_count": 36,
      "outputs": [
        {
          "output_type": "execute_result",
          "data": {
            "text/plain": [
              "<matplotlib.image.AxesImage at 0x7f377113a550>"
            ]
          },
          "metadata": {
            "tags": []
          },
          "execution_count": 36
        },
        {
          "output_type": "display_data",
          "data": {
            "image/png": "[encoded data removed]",
            "text/plain": [
              "<Figure size 432x288 with 1 Axes>"
            ]
          },
          "metadata": {
            "tags": []
          }
        }
      ]
    },
    {
      "cell_type": "code",
      "metadata": {
        "id": "mJ_omxt6iXBF",
        "colab_type": "code",
        "outputId": "d8ccfeb7-45f8-4ba9-94c9-dbcb5772764a",
        "colab": {
          "base_uri": "https://localhost:8080/",
          "height": 306
        }
      },
      "source": [
        "# load image\n",
        "#image = read_image_bgr('/content/drive/My Drive/Colab Notebooks/ds11/0.png')\n",
        "\n",
        "# copy to draw on\n",
        "draw = image.copy()\n",
        "draw = cv2.cvtColor(draw, cv2.COLOR_BGR2RGB)\n",
        "\n",
        "# preprocess image for network\n",
        "image = preprocess_image(image)\n",
        "image, scale = resize_image(image)\n",
        "plt.imshow(image)"
      ],
      "execution_count": 37,
      "outputs": [
        {
          "output_type": "stream",
          "text": [
            "Clipping input data to the valid range for imshow with RGB data ([0..1] for floats or [0..255] for integers).\n"
          ],
          "name": "stderr"
        },
        {
          "output_type": "execute_result",
          "data": {
            "text/plain": [
              "<matplotlib.image.AxesImage at 0x7f37707c3128>"
            ]
          },
          "metadata": {
            "tags": []
          },
          "execution_count": 37
        },
        {
          "output_type": "display_data",
          "data": {
            "image/png": "[encoded data removed]",
            "text/plain": [
              "<Figure size 432x288 with 1 Axes>"
            ]
          },
          "metadata": {
            "tags": []
          }
        }
      ]
    },
    {
      "cell_type": "code",
      "metadata": {
        "id": "0tYEm020idG3",
        "colab_type": "code",
        "outputId": "8aa6f2f5-0fd6-4dbe-96da-4ae1abad3c40",
        "colab": {
          "base_uri": "https://localhost:8080/",
          "height": 287
        }
      },
      "source": [
        "plt.imshow(draw)"
      ],
      "execution_count": 38,
      "outputs": [
        {
          "output_type": "execute_result",
          "data": {
            "text/plain": [
              "<matplotlib.image.AxesImage at 0x7f37707520b8>"
            ]
          },
          "metadata": {
            "tags": []
          },
          "execution_count": 38
        },
        {
          "output_type": "display_data",
          "data": {
            "image/png": "[encoded data removed]",
            "text/plain": [
              "<Figure size 432x288 with 1 Axes>"
            ]
          },
          "metadata": {
            "tags": []
          }
        }
      ]
    },
    {
      "cell_type": "code",
      "metadata": {
        "id": "SnAyrpPXXs-y",
        "colab_type": "code",
        "outputId": "ef4e0267-848b-444f-853e-53aaca8ad4e5",
        "colab": {
          "base_uri": "https://localhost:8080/",
          "height": 789
        }
      },
      "source": [
        "# process image\n",
        "start = time.time()\n",
        "boxes, scores, labels = model.predict_on_batch(np.expand_dims(image, axis=0))\n",
        "print(\"processing time: \", time.time() - start)\n",
        "\n",
        "# correct for image scale\n",
        "boxes /= scale\n",
        "\n",
        "labels_to_names = {0: '0', 1: '1', 2: '2', 3: '3', 4: '4', 5: '5', 6: '6', 7: '7', 8: '8', 9: '9', 10: '10'}\n",
        "\n",
        "# visualize detections\n",
        "for box, score, label in zip(boxes[0], scores[0], labels[0]):\n",
        "    print(box)\n",
        "    print(score)\n",
        "    print(label)\n",
        "    # scores are sorted so we can break\n",
        "    if score < 0.5:\n",
        "        break\n",
        "    \n",
        "    color = label_color(label)\n",
        "    \n",
        "    b = box.astype(int)\n",
        "    draw_box(draw, b, color=color)\n",
        "    \n",
        "    caption = \"{} {:.3f}\".format(labels_to_names[label], score)\n",
        "    draw_caption(draw, b, caption)\n",
        "\n",
        "plt.figure(figsize=(15, 15))\n",
        "plt.axis('off')\n",
        "plt.imshow(draw)\n",
        "plt.show()"
      ],
      "execution_count": 39,
      "outputs": [
        {
          "output_type": "stream",
          "text": [
            "processing time:  2.9775092601776123\n",
            "[189.56775 116.29387 248.45473 176.63805]\n",
            "0.5890827\n",
            "7\n",
            "[191.16171  117.332466 248.99866  176.49289 ]\n",
            "0.49692073\n",
            "0\n"
          ],
          "name": "stdout"
        },
        {
          "output_type": "display_data",
          "data": {
            "image/png": "[encoded data removed]",
            "text/plain": [
              "<Figure size 1080x1080 with 1 Axes>"
            ]
          },
          "metadata": {
            "tags": []
          }
        }
      ]
    },
    {
      "cell_type": "code",
      "metadata": {
        "id": "eAW0b4YgPU-X",
        "colab_type": "code",
        "colab": {
          "base_uri": "https://localhost:8080/",
          "height": 789
        },
        "outputId": "50bd73e8-6252-44f4-e1c1-8a12645a1b29"
      },
      "source": [
        "image = read_image_bgr('/content/drive/My Drive/Colab Notebooks/ds11/0.png')\n",
        "\n",
        "# copy to draw on\n",
        "draw = image.copy()\n",
        "draw = cv2.cvtColor(draw, cv2.COLOR_BGR2RGB)\n",
        "\n",
        "# preprocess image for network\n",
        "image = preprocess_image(image)\n",
        "image, scale = resize_image(image)\n",
        "\n",
        "# process image\n",
        "start = time.time()\n",
        "boxes, scores, labels = model.predict_on_batch(np.expand_dims(image, axis=0))\n",
        "print(\"processing time: \", time.time() - start)\n",
        "\n",
        "# correct for image scale\n",
        "boxes /= scale\n",
        "\n",
        "# visualize detections\n",
        "for box, score, label in zip(boxes[0], scores[0], labels[0]):\n",
        "    print(box)\n",
        "    print(score)\n",
        "    print(label)\n",
        "    # scores are sorted so we can break\n",
        "    if score < 0.5:\n",
        "        break\n",
        "    \n",
        "    color = label_color(label)\n",
        "    \n",
        "    b = box.astype(int)\n",
        "    draw_box(draw, b, color=color)\n",
        "    \n",
        "    caption = \"{} {:.3f}\".format(labels_to_names[label], score)\n",
        "    draw_caption(draw, b, caption)\n",
        "\n",
        "plt.figure(figsize=(15, 15))\n",
        "plt.axis('off')\n",
        "plt.imshow(draw)\n",
        "plt.show()"
      ],
      "execution_count": 40,
      "outputs": [
        {
          "output_type": "stream",
          "text": [
            "processing time:  0.07040214538574219\n",
            "[178.78563 103.96066 246.98787 169.23079]\n",
            "0.63343215\n",
            "0\n",
            "[178.78563 103.96066 246.98787 169.23079]\n",
            "0.40313137\n",
            "7\n"
          ],
          "name": "stdout"
        },
        {
          "output_type": "display_data",
          "data": {
            "image/png": "[encoded data removed]",
            "text/plain": [
              "<Figure size 1080x1080 with 1 Axes>"
            ]
          },
          "metadata": {
            "tags": []
          }
        }
      ]
    },
    {
      "cell_type": "code",
      "metadata": {
        "id": "rC9yizFLMTeE",
        "colab_type": "code",
        "colab": {
          "base_uri": "https://localhost:8080/",
          "height": 789
        },
        "outputId": "47cf9dc7-445f-4132-f7af-a6bc0b9a4162"
      },
      "source": [
        "image = read_image_bgr('/content/drive/My Drive/Colab Notebooks/ds11/200.png')\n",
        "\n",
        "# copy to draw on\n",
        "draw = image.copy()\n",
        "draw = cv2.cvtColor(draw, cv2.COLOR_BGR2RGB)\n",
        "\n",
        "# preprocess image for network\n",
        "image = preprocess_image(image)\n",
        "image, scale = resize_image(image)\n",
        "\n",
        "# process image\n",
        "start = time.time()\n",
        "boxes, scores, labels = model.predict_on_batch(np.expand_dims(image, axis=0))\n",
        "print(\"processing time: \", time.time() - start)\n",
        "\n",
        "# correct for image scale\n",
        "boxes /= scale\n",
        "\n",
        "# visualize detections\n",
        "for box, score, label in zip(boxes[0], scores[0], labels[0]):\n",
        "    print(box)\n",
        "    print(score)\n",
        "    print(label)\n",
        "    # scores are sorted so we can break\n",
        "    if score < 0.5:\n",
        "        break\n",
        "    \n",
        "    color = label_color(label)\n",
        "    \n",
        "    b = box.astype(int)\n",
        "    draw_box(draw, b, color=color)\n",
        "    \n",
        "    caption = \"{} {:.3f}\".format(labels_to_names[label], score)\n",
        "    draw_caption(draw, b, caption)\n",
        "\n",
        "plt.figure(figsize=(15, 15))\n",
        "plt.axis('off')\n",
        "plt.imshow(draw)\n",
        "plt.show()"
      ],
      "execution_count": 41,
      "outputs": [
        {
          "output_type": "stream",
          "text": [
            "processing time:  0.07198882102966309\n",
            "[218.6251  131.57204 242.88544 173.87958]\n",
            "0.56624085\n",
            "3\n",
            "[218.17136 132.0867  243.58571 172.95293]\n",
            "0.2946356\n",
            "1\n"
          ],
          "name": "stdout"
        },
        {
          "output_type": "display_data",
          "data": {
            "image/png": "[encoded data removed]",
            "text/plain": [
              "<Figure size 1080x1080 with 1 Axes>"
            ]
          },
          "metadata": {
            "tags": []
          }
        }
      ]
    }
  ]
}