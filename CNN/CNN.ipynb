{
 "cells": [
  {
   "cell_type": "code",
   "execution_count": 0,
   "metadata": {
    "colab": {
     "base_uri": "https://localhost:8080/",
     "height": 129
    },
    "colab_type": "code",
    "id": "dbLvBp3ZW7O3",
    "outputId": "9c6b11b2-5768-4d1c-dd24-09b9eb166ced"
   },
   "outputs": [
    {
     "name": "stdout",
     "output_type": "stream",
     "text": [
      "Go to this URL in a browser: https://accounts.google.com/o/oauth2/auth?client_id=947318989803-6bn6qk8qdgf4n4g3pfee6491hc0brc4i.apps.googleusercontent.com&redirect_uri=urn%3aietf%3awg%3aoauth%3a2.0%3aoob&response_type=code&scope=email%20https%3a%2f%2fwww.googleapis.com%2fauth%2fdocs.test%20https%3a%2f%2fwww.googleapis.com%2fauth%2fdrive%20https%3a%2f%2fwww.googleapis.com%2fauth%2fdrive.photos.readonly%20https%3a%2f%2fwww.googleapis.com%2fauth%2fpeopleapi.readonly\n",
      "\n",
      "Enter your authorization code:\n",
      "··········\n",
      "Mounted at /content/drive\n"
     ]
    }
   ],
   "source": [
    "from google.colab import drive\n",
    "drive.mount('/content/drive')"
   ]
  },
  {
   "cell_type": "code",
   "execution_count": 0,
   "metadata": {
    "colab": {},
    "colab_type": "code",
    "id": "RmFfXRedW8ag"
   },
   "outputs": [],
   "source": [
    "# import librairies\n",
    "import pickle \n",
    "import cv2\n",
    "import matplotlib.pyplot as plt\n",
    "from sklearn.decomposition import PCA\n",
    "import numpy as np\n",
    "from sklearn.decomposition import TruncatedSVD\n",
    "from sklearn.model_selection import train_test_split\n",
    "from sklearn.naive_bayes import MultinomialNB\n",
    "from sklearn.linear_model import Perceptron, LogisticRegression\n",
    "from sklearn.tree import DecisionTreeClassifier\n",
    "from sklearn.neighbors import KNeighborsClassifier\n",
    "from sklearn.svm import SVC\n",
    "from sklearn.metrics import f1_score\n",
    "from sklearn.ensemble import RandomForestClassifier\n",
    "from sklearn.neural_network import MLPClassifier\n",
    "import pandas"
   ]
  },
  {
   "cell_type": "code",
   "execution_count": 0,
   "metadata": {
    "colab": {
     "base_uri": "https://localhost:8080/",
     "height": 35
    },
    "colab_type": "code",
    "id": "7pZ2UNuUW-Fp",
    "outputId": "1615ac7d-27ab-448e-9fff-7f443660cbad"
   },
   "outputs": [
    {
     "name": "stdout",
     "output_type": "stream",
     "text": [
      "(13785, 186, 250, 3)\n"
     ]
    }
   ],
   "source": [
    "from google.colab import files\n",
    "# dbfile=files.download('/content/vehicleimg')\n",
    "db = {} \n",
    "# Its important to use binary mode \n",
    "dbfile = open('/content/drive/My Drive/vehicleimg', 'rb') \n",
    "new_dict = pickle.load(dbfile)          \n",
    "print(new_dict.shape)        # (13785, 186, 250, 3)\n",
    "dbfile.close() "
   ]
  },
  {
   "cell_type": "code",
   "execution_count": 0,
   "metadata": {
    "colab": {
     "base_uri": "https://localhost:8080/",
     "height": 35
    },
    "colab_type": "code",
    "id": "tjKcWsYOXCka",
    "outputId": "27ac67be-296e-4ceb-d4e2-eaf47284f8d4"
   },
   "outputs": [
    {
     "name": "stdout",
     "output_type": "stream",
     "text": [
      "(13785,)\n"
     ]
    }
   ],
   "source": [
    "db = {} \n",
    "# Its important to use binary mode \n",
    "dbfile = open('/content/vehicletrgt', 'rb') \n",
    "labels = pickle.load(dbfile)          \n",
    "print(labels.shape)          # (13785)\n",
    "dbfile.close() "
   ]
  },
  {
   "cell_type": "code",
   "execution_count": 0,
   "metadata": {
    "colab": {},
    "colab_type": "code",
    "id": "3vQz7QwbXEVg"
   },
   "outputs": [],
   "source": [
    "# have to transforme the labels in porcentages\n",
    "# there are 3 classes: 2, 3 and 4\n",
    "labels_porcentages=np.zeros((len(labels),3))\n",
    "for i in range(len(labels)):\n",
    "  labels_porcentages[i][labels[i]-2]=1"
   ]
  },
  {
   "cell_type": "code",
   "execution_count": 0,
   "metadata": {
    "colab": {},
    "colab_type": "code",
    "id": "GrM0k491y_Tc"
   },
   "outputs": [],
   "source": [
    "import keras\n",
    "datagen = keras.preprocessing.image.ImageDataGenerator(\n",
    "    featurewise_center=True,\n",
    "    featurewise_std_normalization=True,\n",
    "    rotation_range=20,\n",
    "    width_shift_range=0.2,\n",
    "    height_shift_range=0.2,\n",
    "    horizontal_flip=True)"
   ]
  },
  {
   "cell_type": "code",
   "execution_count": 0,
   "metadata": {
    "colab": {
     "base_uri": "https://localhost:8080/",
     "height": 110
    },
    "colab_type": "code",
    "id": "QSWDhlpWyoXR",
    "outputId": "ac5f1ffd-db88-444b-e38f-853fc9ea2ee6"
   },
   "outputs": [
    {
     "name": "stderr",
     "output_type": "stream",
     "text": [
      "/usr/local/lib/python3.6/dist-packages/keras_preprocessing/image/image_data_generator.py:716: UserWarning: This ImageDataGenerator specifies `featurewise_center`, but it hasn't been fit on any training data. Fit it first by calling `.fit(numpy_data)`.\n",
      "  warnings.warn('This ImageDataGenerator specifies '\n",
      "/usr/local/lib/python3.6/dist-packages/keras_preprocessing/image/image_data_generator.py:724: UserWarning: This ImageDataGenerator specifies `featurewise_std_normalization`, but it hasn't been fit on any training data. Fit it first by calling `.fit(numpy_data)`.\n",
      "  warnings.warn('This ImageDataGenerator specifies '\n"
     ]
    }
   ],
   "source": [
    "for i in range(2000,4000): \n",
    "\tit=datagen.flow(new_dict[i:i+1],  batch_size=2)\n",
    "\tbatch = it.next()\n",
    "\t# convert to unsigned integers for viewing\n",
    "\timage = batch[:2].astype('uint8')\n",
    "\tnew_dict=np.concatenate((new_dict,image),axis=0)\n",
    "\tlabels_porcentages=np.concatenate((labels_porcentages,labels_porcentages[i:i+1]),axis=0)"
   ]
  },
  {
   "cell_type": "code",
   "execution_count": 0,
   "metadata": {
    "colab": {},
    "colab_type": "code",
    "id": "vhLJdSFsXPrl"
   },
   "outputs": [],
   "source": [
    "# CNN\n",
    "from keras.models import Sequential\n",
    "from keras.layers import Dense, Conv2D, Flatten, Dropout\n",
    "#create model\n",
    "model = Sequential()#add model layers\n",
    "model.add(Conv2D(64, kernel_size=3, activation='relu', input_shape=(186,250,3)))\n",
    "model.add(Dropout(0.25, noise_shape=None, seed=None))\n",
    "model.add(Conv2D(32, kernel_size=3, activation='relu'))\n",
    "model.add(Dropout(0.25, noise_shape=None, seed=None))\n",
    "model.add(Flatten())\n",
    "model.add(Dense(40, activation='softmax'))\n",
    "model.add(Dropout(0.25, noise_shape=None, seed=None))\n",
    "model.add(Dense(20, activation='softmax'))\n",
    "model.add(Dropout(0.25, noise_shape=None, seed=None))\n",
    "model.add(Dense(3, activation='softmax'))"
   ]
  },
  {
   "cell_type": "code",
   "execution_count": 0,
   "metadata": {
    "colab": {},
    "colab_type": "code",
    "id": "4AUvbxB3XStS"
   },
   "outputs": [],
   "source": [
    "#compile model using accuracy to measure model performance\n",
    "model.compile(optimizer='Adadelta', loss='categorical_crossentropy', metrics=['accuracy'])"
   ]
  },
  {
   "cell_type": "code",
   "execution_count": 0,
   "metadata": {
    "colab": {},
    "colab_type": "code",
    "id": "rnb7w0b9VLid"
   },
   "outputs": [],
   "source": [
    "# preprocessing\n",
    "import skimage.exposure\n",
    "histo=[0]*5000\n",
    "histo[:2000]=skimage.exposure.equalize_hist(new_dict[:2000])\n",
    "histo[2000:4000]=skimage.exposure.equalize_hist(new_dict[7000:9000])\n",
    "histo[4000:]=skimage.exposure.equalize_hist(new_dict[11000:12000])\n",
    "l=np.stack(histo, axis=0 )\n",
    "# can't do it in one time because else it crash"
   ]
  },
  {
   "cell_type": "code",
   "execution_count": 0,
   "metadata": {
    "colab": {},
    "colab_type": "code",
    "id": "SMntsKxFXUc7"
   },
   "outputs": [],
   "source": [
    "from sklearn.model_selection import train_test_split\n",
    "y=np.concatenate((np.concatenate((labels_porcentages[:2000],labels_porcentages[7000:9000]),axis=0),labels_porcentages[11000:12000]),axis=0)\n",
    "X_train, X_test, y_train, y_test = train_test_split(l, y, test_size=0.1, random_state=42)"
   ]
  },
  {
   "cell_type": "code",
   "execution_count": 27,
   "metadata": {
    "colab": {
     "base_uri": "https://localhost:8080/",
     "height": 164
    },
    "colab_type": "code",
    "id": "hS3MXsNcrz2g",
    "outputId": "8abd38b3-34d4-4a58-fc0a-61e8672df3f0"
   },
   "outputs": [
    {
     "name": "stdout",
     "output_type": "stream",
     "text": [
      "Train on 4500 samples, validate on 500 samples\n",
      "Epoch 1/3\n",
      "4500/4500 [==============================] - 19s 4ms/step - loss: 0.7618 - acc: 0.6749 - val_loss: 0.5506 - val_acc: 0.8260\n",
      "Epoch 2/3\n",
      "4500/4500 [==============================] - 19s 4ms/step - loss: 0.7438 - acc: 0.6818 - val_loss: 0.5277 - val_acc: 0.8260\n",
      "Epoch 3/3\n",
      "4500/4500 [==============================] - 19s 4ms/step - loss: 0.7240 - acc: 0.6698 - val_loss: 0.5091 - val_acc: 0.8240\n"
     ]
    },
    {
     "data": {
      "text/plain": [
       "<keras.callbacks.History at 0x7efc501af1d0>"
      ]
     },
     "execution_count": 27,
     "metadata": {
      "tags": []
     },
     "output_type": "execute_result"
    }
   ],
   "source": [
    "model.fit(X_train, y_train, validation_data=(X_test, y_test), epochs=3)"
   ]
  },
  {
   "cell_type": "code",
   "execution_count": 0,
   "metadata": {
    "colab": {},
    "colab_type": "code",
    "id": "kN-oV4kgsG4q"
   },
   "outputs": [],
   "source": [
    "#predict first 4 images in the test set\n",
    "model.predict(X_test[:20])"
   ]
  },
  {
   "cell_type": "code",
   "execution_count": 0,
   "metadata": {
    "colab": {},
    "colab_type": "code",
    "id": "buG1O2A-sItd"
   },
   "outputs": [],
   "source": [
    "#actual results for first 4 images in test set\n",
    "y_test[:20]"
   ]
  }
 ],
 "metadata": {
  "accelerator": "GPU",
  "colab": {
   "collapsed_sections": [],
   "machine_shape": "hm",
   "name": "Untitled1.ipynb",
   "provenance": []
  },
  "kernelspec": {
   "display_name": "Python 3",
   "language": "python",
   "name": "python3"
  },
  "language_info": {
   "codemirror_mode": {
    "name": "ipython",
    "version": 3
   },
   "file_extension": ".py",
   "mimetype": "text/x-python",
   "name": "python",
   "nbconvert_exporter": "python",
   "pygments_lexer": "ipython3",
   "version": "3.7.1"
  }
 },
 "nbformat": 4,
 "nbformat_minor": 1
}
